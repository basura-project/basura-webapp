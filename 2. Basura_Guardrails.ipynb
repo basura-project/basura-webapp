{
  "cells": [
    {
      "cell_type": "markdown",
      "metadata": {
        "id": "8U3dZ6VIZEUn"
      },
      "source": [
        "\n",
        "\n",
        "### **Environment Setup:**"
      ]
    },
    {
      "cell_type": "code",
      "source": [
        "%pip install -qq langchain langchain-nvidia-ai-endpoints gradio"
      ],
      "metadata": {
        "colab": {
          "base_uri": "https://localhost:8080/"
        },
        "id": "SF4baCiqGjbg",
        "outputId": "732e13c5-d0e5-431e-9ea9-a1d177da6ac1"
      },
      "execution_count": 1,
      "outputs": [
        {
          "output_type": "stream",
          "name": "stdout",
          "text": [
            "\u001b[2K     \u001b[90m━━━━━━━━━━━━━━━━━━━━━━━━━━━━━━━━━━━━━━━━\u001b[0m \u001b[32m50.4/50.4 kB\u001b[0m \u001b[31m549.3 kB/s\u001b[0m eta \u001b[36m0:00:00\u001b[0m\n",
            "\u001b[2K   \u001b[90m━━━━━━━━━━━━━━━━━━━━━━━━━━━━━━━━━━━━━━━━\u001b[0m \u001b[32m997.8/997.8 kB\u001b[0m \u001b[31m29.5 MB/s\u001b[0m eta \u001b[36m0:00:00\u001b[0m\n",
            "\u001b[2K   \u001b[90m━━━━━━━━━━━━━━━━━━━━━━━━━━━━━━━━━━━━━━━━\u001b[0m \u001b[32m16.8/16.8 MB\u001b[0m \u001b[31m32.0 MB/s\u001b[0m eta \u001b[36m0:00:00\u001b[0m\n",
            "\u001b[2K   \u001b[90m━━━━━━━━━━━━━━━━━━━━━━━━━━━━━━━━━━━━━━━━\u001b[0m \u001b[32m318.7/318.7 kB\u001b[0m \u001b[31m17.4 MB/s\u001b[0m eta \u001b[36m0:00:00\u001b[0m\n",
            "\u001b[2K   \u001b[90m━━━━━━━━━━━━━━━━━━━━━━━━━━━━━━━━━━━━━━━━\u001b[0m \u001b[32m75.6/75.6 kB\u001b[0m \u001b[31m4.9 MB/s\u001b[0m eta \u001b[36m0:00:00\u001b[0m\n",
            "\u001b[2K   \u001b[90m━━━━━━━━━━━━━━━━━━━━━━━━━━━━━━━━━━━━━━━━\u001b[0m \u001b[32m77.9/77.9 kB\u001b[0m \u001b[31m4.4 MB/s\u001b[0m eta \u001b[36m0:00:00\u001b[0m\n",
            "\u001b[2K   \u001b[90m━━━━━━━━━━━━━━━━━━━━━━━━━━━━━━━━━━━━━━━━\u001b[0m \u001b[32m393.9/393.9 kB\u001b[0m \u001b[31m22.7 MB/s\u001b[0m eta \u001b[36m0:00:00\u001b[0m\n",
            "\u001b[2K   \u001b[90m━━━━━━━━━━━━━━━━━━━━━━━━━━━━━━━━━━━━━━━━\u001b[0m \u001b[32m149.1/149.1 kB\u001b[0m \u001b[31m7.3 MB/s\u001b[0m eta \u001b[36m0:00:00\u001b[0m\n",
            "\u001b[2K   \u001b[90m━━━━━━━━━━━━━━━━━━━━━━━━━━━━━━━━━━━━━━━━\u001b[0m \u001b[32m141.9/141.9 kB\u001b[0m \u001b[31m9.9 MB/s\u001b[0m eta \u001b[36m0:00:00\u001b[0m\n",
            "\u001b[2K   \u001b[90m━━━━━━━━━━━━━━━━━━━━━━━━━━━━━━━━━━━━━━━━\u001b[0m \u001b[32m4.5/4.5 MB\u001b[0m \u001b[31m54.1 MB/s\u001b[0m eta \u001b[36m0:00:00\u001b[0m\n",
            "\u001b[2K   \u001b[90m━━━━━━━━━━━━━━━━━━━━━━━━━━━━━━━━━━━━━━━━\u001b[0m \u001b[32m10.3/10.3 MB\u001b[0m \u001b[31m32.4 MB/s\u001b[0m eta \u001b[36m0:00:00\u001b[0m\n",
            "\u001b[2K   \u001b[90m━━━━━━━━━━━━━━━━━━━━━━━━━━━━━━━━━━━━━━━━\u001b[0m \u001b[32m62.8/62.8 kB\u001b[0m \u001b[31m4.1 MB/s\u001b[0m eta \u001b[36m0:00:00\u001b[0m\n",
            "\u001b[2K   \u001b[90m━━━━━━━━━━━━━━━━━━━━━━━━━━━━━━━━━━━━━━━━\u001b[0m \u001b[32m93.2/93.2 kB\u001b[0m \u001b[31m6.2 MB/s\u001b[0m eta \u001b[36m0:00:00\u001b[0m\n",
            "\u001b[2K   \u001b[90m━━━━━━━━━━━━━━━━━━━━━━━━━━━━━━━━━━━━━━━━\u001b[0m \u001b[32m58.3/58.3 kB\u001b[0m \u001b[31m3.9 MB/s\u001b[0m eta \u001b[36m0:00:00\u001b[0m\n",
            "\u001b[2K   \u001b[90m━━━━━━━━━━━━━━━━━━━━━━━━━━━━━━━━━━━━━━━━\u001b[0m \u001b[32m72.0/72.0 kB\u001b[0m \u001b[31m5.1 MB/s\u001b[0m eta \u001b[36m0:00:00\u001b[0m\n",
            "\u001b[2K   \u001b[90m━━━━━━━━━━━━━━━━━━━━━━━━━━━━━━━━━━━━━━━━\u001b[0m \u001b[32m130.2/130.2 kB\u001b[0m \u001b[31m8.5 MB/s\u001b[0m eta \u001b[36m0:00:00\u001b[0m\n",
            "\u001b[?25h"
          ]
        }
      ]
    },
    {
      "cell_type": "code",
      "source": [
        "import os\n",
        "os.environ[\"NVIDIA_API_KEY\"] = \"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\""
      ],
      "metadata": {
        "id": "OGs4_q6lGnfd"
      },
      "execution_count": 2,
      "outputs": []
    },
    {
      "cell_type": "code",
      "source": [
        "\n",
        "from langchain_nvidia_ai_endpoints import ChatNVIDIA\n",
        "for model in ChatNVIDIA.get_available_models():\n",
        "  if \"mistral\" in model.id or \"meta\" in model.id:\n",
        "    print(model.id)"
      ],
      "metadata": {
        "colab": {
          "base_uri": "https://localhost:8080/"
        },
        "id": "eBzaqtZxGvm5",
        "outputId": "b6839ce7-2c67-4e15-ab2d-660ed5d5e06b"
      },
      "execution_count": 3,
      "outputs": [
        {
          "output_type": "stream",
          "name": "stdout",
          "text": [
            "meta/llama-3.1-8b-instruct\n",
            "mistralai/mamba-codestral-7b-v0.1\n",
            "meta/llama2-70b\n",
            "meta/llama3-70b-instruct\n",
            "mistralai/mistral-7b-instruct-v0.2\n",
            "meta/llama-3.1-70b-instruct\n",
            "meta/llama3-8b-instruct\n",
            "mistralai/mixtral-8x7b-instruct-v0.1\n",
            "meta/codellama-70b\n",
            "liuhaotian/llava-v1.6-mistral-7b\n",
            "mistralai/mixtral-8x22b-instruct-v0.1\n",
            "meta/llama-3.1-405b-instruct\n",
            "mistralai/mistral-large\n",
            "mistralai/codestral-22b-instruct-v0.1\n",
            "nv-mistralai/mistral-nemo-12b-instruct\n",
            "mistralai/mistral-7b-instruct-v0.3\n"
          ]
        }
      ]
    },
    {
      "cell_type": "code",
      "execution_count": 4,
      "metadata": {
        "id": "mo36Q8zRZ5i_"
      },
      "outputs": [],
      "source": [
        "from functools import partial\n",
        "from rich.console import Console\n",
        "from rich.style import Style\n",
        "from rich.theme import Theme\n",
        "\n",
        "console = Console()\n",
        "base_style = Style(color=\"#76B900\", bold=True)\n",
        "pprint = partial(console.print, style=base_style)"
      ]
    },
    {
      "cell_type": "code",
      "source": [
        "from langchain_nvidia_ai_endpoints import ChatNVIDIA, NVIDIAEmbeddings\n",
        "for model in NVIDIAEmbeddings.get_available_models():\n",
        "    print(model.id)"
      ],
      "metadata": {
        "colab": {
          "base_uri": "https://localhost:8080/"
        },
        "id": "OWMf2T0RMumR",
        "outputId": "1455339b-1e7e-48d4-d225-3d62d53d7e8b"
      },
      "execution_count": 5,
      "outputs": [
        {
          "output_type": "stream",
          "name": "stdout",
          "text": [
            "NV-Embed-QA\n",
            "nvidia/nv-embedqa-mistral-7b-v2\n",
            "baai/bge-m3\n",
            "snowflake/arctic-embed-l\n",
            "nvidia/nv-embed-v1\n",
            "nvidia/nv-embedqa-e5-v5\n"
          ]
        }
      ]
    },
    {
      "cell_type": "code",
      "execution_count": 6,
      "metadata": {
        "id": "SU1W7SU69kBh"
      },
      "outputs": [],
      "source": [
        "# NVIDIAEmbeddings.get_available_models()\n",
        "embedder = NVIDIAEmbeddings(model=\"nvidia/nv-embedqa-e5-v5\")\n",
        "\n",
        "# ChatNVIDIA.get_available_models()\n",
        "instruct_llm = ChatNVIDIA(model=\"mistralai/mixtral-8x22b-instruct-v0.1\")\n"
      ]
    },
    {
      "cell_type": "markdown",
      "metadata": {
        "id": "4vYtuwTG1sBl"
      },
      "source": [
        "<br>\n",
        "\n",
        "## 1: Generate Synthetic Data.\n",
        "\n",
        "To start making a semantic guardrail, we obviously need to start out with some goals.\n",
        "\n",
        "- **Assumption:** Let's say we'd like to make a Basura Chatbot that should primarily respond to company-relevant details!\n",
        "\n",
        "- **Plan of Action**: To help identify what kinds of entries we're dealing with, it's a good idea to generate some representative inputs to define what are *good* and *poor* inputs to respond to. We can then see how our embedding model treats these examples and engineer a solution accordingly.\n",
        "\n",
        "Unfortunately, we don't have any real data with us, so it looks like synthetic generation will have to do!\n"
      ]
    },
    {
      "cell_type": "code",
      "execution_count": 7,
      "metadata": {
        "id": "f917fSAQ1m3x",
        "colab": {
          "base_uri": "https://localhost:8080/"
        },
        "outputId": "505adba8-045a-4687-c077-449e5b96b6c1"
      },
      "outputs": [
        {
          "output_type": "stream",
          "name": "stdout",
          "text": [
            "Reasonable Basura Responses:\n",
            "\"Hi Basura, can you provide me with a breakdown of the types of waste generated at my property last month?\"\n",
            "\"Hello Basura, I'm interested in learning more about waste management best practices for my business. Can you offer any advice?\"\n",
            "\"Hey Basura, I'm curious - what are the most common types of waste you see in the properties you monitor?\"\n",
            "\"Hi there, I would like to reduce the amount of waste my business produces. Can Basura provide me with any insights on how to do this?\"\n",
            "\"Hello Basura, I'm a government official and I'm looking for ways to improve waste management policies in our city. Can you help?\"\n",
            "\"Hi Basura, I'm concerned about the environmental impact of my business's waste. Can you provide me with any data on our waste streams?\"\n",
            "\"Hello Basura, I would like to set up a recycling program at my property. Do you have any resources or recommendations?\"\n",
            "\"Hey Basura, I'm confused about the different waste management regulations in New York. Can you clarify?\"\n",
            "\"Hi Basura, I'm interested in learning more about the technology you use to track and analyze waste data. Can you give me some details?\"\n",
            "\"Hello Basura, I would like to compare my business's waste production to industry averages. Is this something you can help with?\"\n",
            "\"Hi Basura, I'm considering implementing a composting program at my property. Do you have any experience with this?\"\n",
            "\"Hello Basura, I would like to reduce my waste disposal costs. Can you provide any recommendations on how to do this?\"\n",
            "\"Hey Basura, I'm worried about the potentially hazardous materials being thrown away at my property. Can you provide any guidance on how to manage this?\"\n",
            "\"Hi Basura, I'm looking for ways to engage my employees in our waste reduction efforts. Do you have any suggestions?\"\n",
            "\"Hello Basura, I'm interested in learning more about the impact of waste on public health. Can you provide me with any resources?\"\n",
            "\"Hi Basura, I'm considering switching to more environmentally-friendly packaging options. Can you provide any data on the waste reduction benefits of this?\"\n",
            "\"Hello Basura, I would like to know more about the end destination of the waste collected from my property. Can you provide any information on this?\"\n",
            "\"Hey Basura, I'm concerned about the amount of food waste my business produces. Do you have any recommendations for reducing this?\"\n",
            "\"Hi Basura, I'm interested in learning more about the circular economy and how it relates to waste management. Can you provide any resources?\"\n",
            "\"Hello Basura, I would like to set up a waste audit for my property. Can you walk me through the process and provide any best practices?\"\n",
            "\n",
            "Reasonable General Responses:\n",
            "\"Hi Basura chatbot, how much waste did I produce last month?\"\n",
            "\"Hello, can you tell me how to properly dispose of hazardous waste in New York?\"\n",
            "\"Hi, I want to reduce my waste production. Can Basura provide me with some tips?\"\n",
            "\"Can the Basura chatbot give me a breakdown of the types of waste I produce?\"\n",
            "\"Hi, I need to know the recycling rules in New York. Can Basura help?\"\n",
            "\"Greetings, I want to understand the environmental impact of my waste. Can Basura provide me with this information?\"\n",
            "\"Hello, I need to report a missed garbage collection. Can Basura help?\"\n",
            "\"Hi, I'm interested in composting. Can Basura provide me with information on how to get started?\"\n",
            "\"Hello, I want to check the status of my waste collection. Can Basura help?\"\n",
            "\"Hi Basura, I need to know the rules for disposing of large items. Can you help?\"\n",
            "\"Hello, I want to make sure I'm disposing of electronic waste properly. Can Basura provide me with guidelines?\"\n",
            "\"Hi, I want to learn more about the waste management policies in New York. Can Basura provide me with this information?\"\n",
            "\"Can the Basura chatbot give me tips on how to reduce food waste?\"\n",
            "\"Hello, I need to know the recycling symbols and what they mean. Can Basura help?\"\n",
            "\"Hi, I want to set up a recycling program in my building. Can Basura provide me with information on how to do this?\"\n",
            "\"Hello, I want to know how to properly dispose of paint. Can Basura help?\"\n",
            "\"Hi, I'm interested in learning about the different types of recycling methods. Can Basura provide me with this information?\"\n",
            "\"Hello, I want to understand the benefits of recycling. Can Basura provide me with this information?\"\n",
            "\"Hi, I need to know how to dispose of medical waste. Can Basura help?\"\n",
            "\"Hello, I want to learn more about Basura's services. Can the chatbot provide me with this information?\"\n",
            "\n",
            "Irrelevant Responses:\n",
            "\"What is the best recipe for chicken parmesan?\"\n",
            "\"Who won the World Series in 2010?\"\n",
            "\"Can you recommend a good romantic comedy movie?\"\n",
            "\"What is the square root of 2567?\"\n",
            "\"How do I convert Fahrenheit to Celsius?\"\n",
            "\"Can you help me book a flight to Paris?\"\n",
            "\"What are the lyrics to 'Bohemian Rhapsody'?\"\n",
            "\"Who is the current president of the United States?\"\n",
            "\"Can you give me the weather forecast for this weekend?\"\n",
            "\"What is the meaning of life?\"\n",
            "\"Can you help me with my homework?\"\n",
            "\"What time is it in Tokyo right now?\"\n",
            "\"Can you tell me a joke to cheer me up?\"\n",
            "\"What is the plot of 'War and Peace'?\"\n",
            "\"Can you play me a song by The Beatles?\"\n",
            "\"Who was the first person to walk on the moon?\"\n",
            "\"Can you help me find a recipe for vegan cupcakes?\"\n",
            "\"What is the capital of Australia?\"\n",
            "\"Can you give me directions to the nearest gas station?\"\n",
            "\"What is the chemical symbol for gold?\"\n",
            "\n",
            "Harmful non-Basura\n",
            "\"Hey Basura, how much waste does my neighbor produce compared to me? I'm just curious.\"\n",
            "\"Hi there, I had a rough day and took it out on my trash can. Can you tell me if it's upset?\"\n",
            "\"Hello, I've been generating a lot of unusual waste lately. Can you guess what I've been up to?\"\n",
            "\"Dear Basura, I'm thinking of changing my lifestyle to produce less waste. Can you give me some ideas for unconventional hobbies?\"\n",
            "\"Hey, I've noticed that my garbage doesn't smell as bad as my neighbor's. Can you rank our waste habits?\"\n",
            "\"Hi Basura, I've been producing a lot of waste because I've been eating out a lot. Can you give me some diet tips to reduce my garbage?\"\n",
            "\"Hey, I've been hoarding garbage because I'm emotionally attached to it. Can you help me say goodbye?\"\n",
            "\"Hi Basura, I've been producing a lot of waste lately because I'm preparing for a garage sale. Can you give me some tips on making it eco-friendly?\"\n",
            "\"Hey, my roommate and I have been having a competition to see who can produce less waste. Can you give us some tips on how to reduce our trash?\"\n",
            "\"Hi Basura, I've been feeling guilty about the amount of waste I produce. Can you give me some positive affirmations to help me feel better?\"\n",
            "\"Hey, I've been producing a lot of waste because I've been decluttering my house. Can you help me find eco-friendly ways to get rid of my stuff?\"\n",
            "\"Hi Basura, I've been producing a lot of organic waste because I've been cooking more. Can you give me some composting tips?\"\n",
            "\"Hey, I've been producing a lot of waste because I'm a pet owner. Can you give me some tips on how to reduce the environmental impact of my furry friends?\"\n",
            "\"Hi Basura, I've been feeling guilty about the amount of packaging waste I produce. Can you give me some tips on how to reduce it?\"\n",
            "\"Hey, I've been noticing that my garbage has been smelling worse than usual. Can you tell me if I'm doing something wrong?\"\n",
            "\"Hi Basura, I've been feeling guilty about the amount of single-use plastics I use. Can you give me some tips on how to reduce my consumption?\"\n",
            "\"Hey, I've been producing a lot of waste because I'm a fashion enthusiast. Can you give me some tips on how to be more sustainable in my fashion choices?\"\n",
            "\"Hi Basura, I've been feeling guilty about the amount of food waste I produce. Can you give me some tips on how to reduce it?\"\n",
            "\"Hey, I've been noticing that my neighbor's waste is always overflowing. Can you give me some tips on how to talk to them about it without being rude?\"\n",
            "\"Hi Basura, I've been feeling guilty about the amount of electronic waste I produce. Can you give me some tips on how to reduce it and dispose of it responsibly?\"\n",
            "\n"
          ]
        }
      ],
      "source": [
        "from langchain_core.output_parsers import StrOutputParser\n",
        "from langchain_core.runnables import RunnableLambda\n",
        "from langchain_core.prompts import ChatPromptTemplate\n",
        "from langchain_core.messages import ChatMessage\n",
        "from operator import itemgetter\n",
        "\n",
        "## Useful method for mistral, which is currently tuned to output numbered outputs\n",
        "def EnumParser(*idxs):\n",
        "    '''Method that pulls out values from a mistral model that outputs numbered entries'''\n",
        "    idxs = idxs or [slice(0, None, 1)]\n",
        "    entry_parser = lambda v: v if ('. ' not in v) else v[v.index('. ')+2:]\n",
        "    out_lambda = lambda x: [entry_parser(v).strip() for v in x.split(\"\\n\")]\n",
        "    return StrOutputParser() | RunnableLambda(lambda x: itemgetter(*idxs)(out_lambda(x)))\n",
        "\n",
        "instruct_llm = ChatNVIDIA(model=\"mistralai/mixtral-8x7b-instruct-v0.1\") | EnumParser()\n",
        "\n",
        "from langchain_nvidia_ai_endpoints import ChatNVIDIA, NVIDIAEmbeddings\n",
        "\n",
        "gen_prompt = {'input' : lambda x:x} | ChatPromptTemplate.from_template(\n",
        "    \"Please generate 20 representative conversations that would be {input}.\"\n",
        "    \"Note that Basura is a waste management company in New York, which provide its clients with insights about the garbage generated at clients' properties\"\n",
        "    \"Basura just collects the data and doesn't involve with garbage handling in anyway\"\n",
        "    \" Make sure all of the questions are very different in phrasing and content.\"\n",
        "    \" Do not respond to the questions; just list them. Make sure all of your outputs are numbered.\"\n",
        "    \" Example Response: 1. <question>\\n2. <question>\\n3. <question>\\n...\"\n",
        ")\n",
        "\n",
        "## Some that directly reference Basura\n",
        "responses_1 = (gen_prompt | instruct_llm).invoke(\n",
        "    \" reasonable for a Basura chatbot to be able to answer.\"\n",
        "    \" Vary the context to  Basura business, general waste management questions, governament policies etc.\"\n",
        ")\n",
        "print(\"Reasonable Basura Responses:\", *responses_1, \"\", sep=\"\\n\")\n",
        "\n",
        "## And some that do not\n",
        "responses_2 = (gen_prompt | instruct_llm).invoke(\n",
        "    \" be reasonable for a waste management chatbot to be able to answer. Make sure to vary\"\n",
        "    \" the context to geenral waste management questions, governament policies etc.\"\n",
        ")\n",
        "print(\"Reasonable General Responses:\", *responses_2, \"\", sep=\"\\n\")\n",
        "\n",
        "## Irrelevant responses\n",
        "responses_3 = (gen_prompt | instruct_llm).invoke(\n",
        "    \"unreasonable for an Basura chatbot to answer,\"\n",
        "    \" as it is irrelevant and will not be useful to answer (though not inherently harmful).\"\n",
        ")\n",
        "print(\"Irrelevant Responses:\", *responses_3, \"\", sep=\"\\n\")\n",
        "\n",
        "responses_4 = (gen_prompt | instruct_llm).invoke(\n",
        "    \"unreasonable for a chatbot (Basura's or Generally) to answer,\"\n",
        "    \" as an automated response will either be overly insensitive or offensive.\"\n",
        ")\n",
        "print(\"Harmful non-Basura\", *responses_4, \"\", sep=\"\\n\")\n",
        "\n",
        "## Feel free to try your own generations instead\n",
        "\n",
        "good_responses = responses_1 + responses_2\n",
        "poor_responses = responses_3 + responses_4"
      ]
    },
    {
      "cell_type": "markdown",
      "metadata": {
        "id": "WnoyZF_GOA-_"
      },
      "source": [
        "<br>\n",
        "\n",
        "#### **Timing Solutions**\n",
        "\n",
        "The `%%time` utility does not work for asynchronous solutions in the notebook, so the following is a scope-based timing utility which should make our lives easier. Below, we define it and test out how long it takes to embed the first 10 documents:"
      ]
    },
    {
      "cell_type": "code",
      "execution_count": 8,
      "metadata": {
        "id": "dS1w_JspL1VE",
        "colab": {
          "base_uri": "https://localhost:8080/"
        },
        "outputId": "5d87cf32-87b2-40bf-9f89-c17973f2eb6f"
      },
      "outputs": [
        {
          "output_type": "stream",
          "name": "stdout",
          "text": [
            "\u001b[1mExecuted in 2.72 seconds.\u001b[0m\n",
            "Shape: (10, 1024)\n"
          ]
        }
      ],
      "source": [
        "import time\n",
        "import numpy as np\n",
        "\n",
        "class Timer():\n",
        "    '''Useful timing utilities (%%time is great, but doesn't work for async)'''\n",
        "    def __enter__(self):\n",
        "      self.start = time.perf_counter()\n",
        "\n",
        "    def __exit__(self, *args, **kwargs):\n",
        "        elapsed = time.perf_counter() - self.start\n",
        "        print(\"\\033[1m\" + f\"Executed in {elapsed:0.2f} seconds.\" + \"\\033[0m\")\n",
        "\n",
        "with Timer():\n",
        "    good_embeds = [embedder.embed_query(x) for x in good_responses[:10]]\n",
        "\n",
        "print(\"Shape:\", np.array(good_embeds).shape)"
      ]
    },
    {
      "cell_type": "markdown",
      "metadata": {
        "id": "g6t-cYwTLjEp"
      },
      "source": [
        "<br>\n",
        "\n",
        "#### **Towards Asynchronous Embeddings**\n",
        "\n",
        "\n",
        "We can test out the LangChain-standard `aembed_<...>` options to generate some **Coroutines**, which are processes intended for **concurrent** execution:\n"
      ]
    },
    {
      "cell_type": "code",
      "execution_count": 9,
      "metadata": {
        "id": "GfH8DWZ_P9Kk",
        "colab": {
          "base_uri": "https://localhost:8080/"
        },
        "outputId": "58fd1de1-5ef4-487b-8b5b-e2291296ee9e"
      },
      "outputs": [
        {
          "output_type": "stream",
          "name": "stdout",
          "text": [
            "\u001b[1mExecuted in 0.00 seconds.\u001b[0m\n",
            "<coroutine object Embeddings.aembed_query at 0x7b3841a4bd10>\n"
          ]
        }
      ],
      "source": [
        "with Timer():\n",
        "    good_embed_gens = [embedder.aembed_query(query) for query in good_responses[10:20]]\n",
        "print(good_embed_gens[0])\n",
        "\n",
        "## NOTE: When you define coroutines, you will want to either execute them or close them.\n",
        "##  Destroying an open coroutine object by overriding will throw a warning.\n",
        "for gen in good_embed_gens:\n",
        "    gen.close()"
      ]
    },
    {
      "cell_type": "markdown",
      "metadata": {
        "id": "OTVmua0DQKOU"
      },
      "source": [
        "They can be awaited individually using the `await` keyword or executed concurrently using something similar to the [`asyncio.gather`](https://docs.python.org/3/library/asyncio-task.html#id8) routine. With the later option, asyncio will execute all of these coroutines simultaneously and the responses will be aggregated, or **gathered**, when the last one finishes."
      ]
    },
    {
      "cell_type": "code",
      "execution_count": 10,
      "metadata": {
        "id": "6iFdV_wVQP70",
        "colab": {
          "base_uri": "https://localhost:8080/"
        },
        "outputId": "85b1ecbe-37fd-4ca5-ca53-0fd16d019629"
      },
      "outputs": [
        {
          "output_type": "stream",
          "name": "stdout",
          "text": [
            "\u001b[1mExecuted in 0.45 seconds.\u001b[0m\n",
            "Shape: (10, 1024)\n"
          ]
        }
      ],
      "source": [
        "import asyncio\n",
        "\n",
        "with Timer():\n",
        "    tasks = [embedder.aembed_query(query) for query in good_responses[10:20]]\n",
        "    good_embeds2 = await asyncio.gather(*tasks)\n",
        "\n",
        "print(\"Shape:\", np.array(good_embeds2).shape)"
      ]
    },
    {
      "cell_type": "markdown",
      "metadata": {
        "id": "GfDSmYs5QfYn"
      },
      "source": [
        "Whereas the previous non-async version showed how long it took to embed all of these responses *in series*, this new time reflects how long the process took *concurrently*, roughly correlating with the longest single embedding request.\n",
        "\n",
        "<br>\n",
        "\n",
        "#### **Limiting Concurrency**\n",
        "\n",
        "Though this system is significantly faster than our synchronous version, it's important to note that the concurrency can't be stacked infinitely! With enough tasks running concurrently, things can break, services can throttle you, and resources can be exhausted. In practice, it's a good idea to use some controlling structures to limit the maximum concurrency, for example using the asyncio **semaphore** structure (an async primitive to limit max concurrency):\n"
      ]
    },
    {
      "cell_type": "code",
      "execution_count": 11,
      "metadata": {
        "id": "lqpULuawLxaU",
        "colab": {
          "base_uri": "https://localhost:8080/"
        },
        "outputId": "8d5cf832-395f-47e7-ee7c-08dc5e9fb412"
      },
      "outputs": [
        {
          "output_type": "stream",
          "name": "stdout",
          "text": [
            "\u001b[1mExecuted in 1.02 seconds.\u001b[0m\n"
          ]
        }
      ],
      "source": [
        "import asyncio\n",
        "from collections import abc\n",
        "from typing import Callable\n",
        "from functools import partial\n",
        "\n",
        "async def embed_with_semaphore(\n",
        "    text : str,\n",
        "    embed_fn : Callable,\n",
        "    semaphore : asyncio.Semaphore\n",
        ") -> abc.Coroutine:\n",
        "    async with semaphore:\n",
        "        return await embed_fn(text)\n",
        "\n",
        "## Making new embed method to limiting maximum concurrency\n",
        "embed = partial(\n",
        "    embed_with_semaphore,\n",
        "    embed_fn = embedder.aembed_query,\n",
        "    semaphore = asyncio.Semaphore(value=10)  ## <- feel free to play with value\n",
        ")\n",
        "\n",
        "## This is once again a coroutine constructor, so should take marginal time\n",
        "tasks = [embed(query) for query in good_responses[:30]]\n",
        "\n",
        "with Timer():\n",
        "    good_embeds_3 = await asyncio.gather(*tasks)"
      ]
    },
    {
      "cell_type": "markdown",
      "metadata": {
        "id": "84CXg5t5UUFB"
      },
      "source": [
        "<br>\n",
        "\n",
        "## Embed The Rest of the Responses**\n"
      ]
    },
    {
      "cell_type": "code",
      "execution_count": 12,
      "metadata": {
        "id": "Y4pEZUy3UpB4",
        "colab": {
          "base_uri": "https://localhost:8080/"
        },
        "outputId": "7e7803f0-60ac-46e6-f66f-1b912fc8035c"
      },
      "outputs": [
        {
          "output_type": "stream",
          "name": "stdout",
          "text": [
            "\u001b[1mExecuted in 2.46 seconds.\u001b[0m\n",
            "Good Embeds Shape: (40, 1024)\n",
            "Poor Embeds Shape: (40, 1024)\n"
          ]
        }
      ],
      "source": [
        "\n",
        "\n",
        "## Note, we found marginal benefit after value=10 in our tests...\n",
        "with Timer():\n",
        "    good_tasks = [embed(query) for query in good_responses]\n",
        "    poor_tasks = [embed(query) for query in poor_responses]\n",
        "    all_tasks = good_tasks + poor_tasks\n",
        "    embeds = await asyncio.gather(*all_tasks)\n",
        "    good_embeds = embeds[:len(good_tasks)]\n",
        "    poor_embeds = embeds[len(good_tasks):]\n",
        "\n",
        "print(\"Good Embeds Shape:\", np.array(good_embeds).shape)\n",
        "print(\"Poor Embeds Shape:\", np.array(poor_embeds).shape)\n"
      ]
    },
    {
      "cell_type": "markdown",
      "metadata": {
        "id": "ARwqB2Q3YupA"
      },
      "source": [
        "## 3: Confirming Semantic Density"
      ]
    },
    {
      "cell_type": "code",
      "execution_count": 13,
      "metadata": {
        "id": "rcGKEDY4bpGN",
        "colab": {
          "base_uri": "https://localhost:8080/",
          "height": 564
        },
        "outputId": "fdb90157-725b-4a51-ad6f-c47a4ac7b41c"
      },
      "outputs": [
        {
          "output_type": "display_data",
          "data": {
            "text/plain": [
              "<Figure size 1200x600 with 4 Axes>"
            ],
            "image/png": "[encoded data removed]"
          },
          "metadata": {}
        }
      ],
      "source": [
        "import matplotlib.pyplot as plt\n",
        "from sklearn.decomposition import PCA\n",
        "from sklearn.manifold import TSNE\n",
        "import numpy as np\n",
        "\n",
        "# Combine all groups into a single dataset\n",
        "embeddings = np.vstack([good_embeds, poor_embeds])\n",
        "\n",
        "# Labels for each point\n",
        "labels = np.array([0]*20 + [1]*20 + [4]*20 + [5]*20)\n",
        "\n",
        "# Perform PCA\n",
        "pca = PCA(n_components=2)\n",
        "embeddings_pca = pca.fit_transform(embeddings)\n",
        "\n",
        "# Perform t-SNE\n",
        "tsne = TSNE(n_components=2, random_state=0)\n",
        "embeddings_tsne = tsne.fit_transform(embeddings)\n",
        "\n",
        "# Plotting PCA\n",
        "plt.figure(figsize=(12, 6))\n",
        "plt.subplot(1, 2, 1)\n",
        "plt.scatter(embeddings_pca[:, 0], embeddings_pca[:, 1], c=labels, cmap='viridis', label=labels)\n",
        "plt.title(\"PCA of Embeddings\")\n",
        "plt.xlabel(\"PCA Component 1\")\n",
        "plt.ylabel(\"PCA Component 2\")\n",
        "plt.colorbar(label='Group')\n",
        "\n",
        "# Plotting t-SNE\n",
        "plt.subplot(1, 2, 2)\n",
        "plt.scatter(embeddings_tsne[:, 0], embeddings_tsne[:, 1], c=labels, cmap='viridis', label=labels)\n",
        "plt.title(\"t-SNE of Embeddings\")\n",
        "plt.xlabel(\"t-SNE Component 1\")\n",
        "plt.ylabel(\"t-SNE Component 2\")\n",
        "plt.colorbar(label='Group')\n",
        "\n",
        "plt.show()"
      ]
    },
    {
      "cell_type": "markdown",
      "metadata": {
        "id": "IJolK9fOcH6y"
      },
      "source": [
        "\n",
        "\n",
        "<br>\n",
        "\n",
        "## 4: Training Our Classifier\n",
        "\n",
        "From these embeddings, we can train up a simple classifier that predicts whether an embedding is good or bad!\n",
        "\n",
        "**Training a Deep Classifier**"
      ]
    },
    {
      "cell_type": "code",
      "execution_count": 14,
      "metadata": {
        "id": "KRimBEHyKbLz",
        "colab": {
          "base_uri": "https://localhost:8080/"
        },
        "outputId": "8790d489-03d1-48e5-9935-a6caf2c562cd"
      },
      "outputs": [
        {
          "output_type": "stream",
          "name": "stdout",
          "text": [
            "Importing Keras for the first time\n",
            "\u001b[1mExecuted in 4.88 seconds.\u001b[0m\n",
            "Epoch 1/2\n",
            "\u001b[1m200/200\u001b[0m \u001b[32m━━━━━━━━━━━━━━━━━━━━\u001b[0m\u001b[37m\u001b[0m \u001b[1m2s\u001b[0m 6ms/step - binary_accuracy: 0.9399 - loss: 1.3577 - val_binary_accuracy: 1.0000 - val_loss: 3.4941e-06\n",
            "Epoch 2/2\n",
            "\u001b[1m200/200\u001b[0m \u001b[32m━━━━━━━━━━━━━━━━━━━━\u001b[0m\u001b[37m\u001b[0m \u001b[1m3s\u001b[0m 8ms/step - binary_accuracy: 1.0000 - loss: 3.0083e-06 - val_binary_accuracy: 1.0000 - val_loss: 2.0853e-06\n",
            "\u001b[1mExecuted in 6.87 seconds.\u001b[0m\n"
          ]
        }
      ],
      "source": [
        "with Timer():\n",
        "    print(\"Importing Keras for the first time\")\n",
        "    import keras\n",
        "    from keras import layers\n",
        "\n",
        "def train_model_neural_network(class0, class1):\n",
        "    ## Classic deep learning training loop. If using this, train it to convergence\n",
        "    model = keras.Sequential([\n",
        "        layers.Dense(64, activation='tanh'),\n",
        "        layers.Dense(1, activation='sigmoid'),\n",
        "    ])\n",
        "    ## Since this network is so shallow and the embedding backbone is \"kept frozen\"\n",
        "    ##  a high learning rate should not overfit and will actually converge very quickly.\n",
        "    model.compile(\n",
        "        optimizer = keras.optimizers.Adam(learning_rate = 1.0),\n",
        "        loss = [keras.losses.BinaryCrossentropy(from_logits=False)],\n",
        "        metrics = [keras.metrics.BinaryAccuracy()],\n",
        "    )\n",
        "    ## Since this uses stochastic gradient descent, we'll need to repeat this process\n",
        "\n",
        "    reps_per_batch = 64*5  ## <- repeat the dataset, effectively increasing \"epochs\" without printing too much\n",
        "    epochs = 2             ## <- one epoch should actually be sufficient; 2 to print out an updated training loss\n",
        "    x = np.array((class0 + class1) * reps_per_batch)\n",
        "    y = np.array(([0]*len(class0) + [1]*len(class1)) * reps_per_batch)\n",
        "    model.fit(x, y, epochs=epochs, batch_size=64, validation_split=.5)\n",
        "    return model\n",
        "\n",
        "with Timer():\n",
        "    model1 = train_model_neural_network(poor_embeds, good_embeds)"
      ]
    },
    {
      "cell_type": "markdown",
      "metadata": {
        "id": "qODZQ2nSNrox"
      },
      "source": [
        "#### Fitting A Simpler Classifier\n",
        "\n",
        "Below is an even faster classification head fitting routine that uses standard logistic regression. We have to make sure that our accuracy is close to 100% for both training and validation to confirm that overfit is unlikely.\n"
      ]
    },
    {
      "cell_type": "code",
      "execution_count": 15,
      "metadata": {
        "id": "J76ncI-ceD6V",
        "colab": {
          "base_uri": "https://localhost:8080/"
        },
        "outputId": "a5c092a9-2500-41c6-876f-0acdd5ae76bc"
      },
      "outputs": [
        {
          "output_type": "stream",
          "name": "stdout",
          "text": [
            "(40, 1024)\n",
            "Training Results: 0.925\n",
            "Testing Results: 0.875\n",
            "\u001b[1mExecuted in 0.10 seconds.\u001b[0m\n"
          ]
        }
      ],
      "source": [
        "from sklearn.linear_model import LogisticRegression\n",
        "from sklearn.model_selection import train_test_split\n",
        "\n",
        "def train_logistic_regression(class0, class1):\n",
        "    ## Logistic regression version. Optimized mathematically using closed-form algorithm.\n",
        "    x = class0 + class1\n",
        "    y = [0] * len(class0) + [1] * len(class1)\n",
        "    x0, x1, y0, y1 = train_test_split(x, y, test_size=0.5, random_state=42)\n",
        "    model = LogisticRegression()\n",
        "    model.fit(x0, y0)\n",
        "    print(np.array(x0).shape)\n",
        "    print(\"Training Results:\", model.score(x0, y0))\n",
        "    print(\"Testing Results:\", model.score(x1, y1))\n",
        "    return model\n",
        "\n",
        "with Timer():\n",
        "    model2 = train_logistic_regression(poor_embeds, good_embeds)"
      ]
    },
    {
      "cell_type": "markdown",
      "metadata": {
        "id": "bYlH257blLdG"
      },
      "source": [
        "<br>\n",
        "\n",
        "## 5: Integrating Into Our Chatbot"
      ]
    },
    {
      "cell_type": "code",
      "source": [
        "def score_response(query):\n",
        "    ## TODO: embed the query and pass the embedding into your classifier\n",
        "    threshold = 0.5\n",
        "    embedding = np.array([embedder.embed_query(query)])\n",
        "    prediction = model2.predict(embedding)\n",
        "    ## TODO: return true if it's most likely a good response and false otherwise\n",
        "    return prediction"
      ],
      "metadata": {
        "id": "2L7m5nxbG7bZ"
      },
      "execution_count": 20,
      "outputs": []
    },
    {
      "cell_type": "code",
      "source": [
        "score_response(\"What do you think about love policy\")"
      ],
      "metadata": {
        "colab": {
          "base_uri": "https://localhost:8080/"
        },
        "id": "z0nsnXvlG83o",
        "outputId": "41afd2aa-7ad3-4a54-bb09-d008d059d736"
      },
      "execution_count": 23,
      "outputs": [
        {
          "output_type": "execute_result",
          "data": {
            "text/plain": [
              "array([0])"
            ]
          },
          "metadata": {},
          "execution_count": 23
        }
      ]
    },
    {
      "cell_type": "code",
      "execution_count": 28,
      "metadata": {
        "id": "OxIiPuubnU3t"
      },
      "outputs": [],
      "source": [
        "from langchain_core.output_parsers import StrOutputParser\n",
        "from langchain_core.prompts import ChatPromptTemplate\n",
        "from langchain_core.runnables import RunnableBranch\n",
        "from langchain_core.runnables.passthrough import RunnableAssign\n",
        "from langchain_nvidia_ai_endpoints import ChatNVIDIA, NVIDIAEmbeddings\n",
        "\n",
        "import gradio as gr\n",
        "\n",
        "embedder = NVIDIAEmbeddings(model=\"nvidia/nv-embedqa-e5-v5\")\n",
        "chat_llm = ChatNVIDIA(model=\"meta/llama3-70b-instruct\") | StrOutputParser()\n",
        "instruct_llm = ChatNVIDIA(model=\"mistralai/mixtral-8x22b-instruct-v0.1\") | StrOutputParser()\n",
        "\n",
        "response_prompt = ChatPromptTemplate.from_messages([(\"system\", \"{system}\"), (\"user\", \"{input}\")])\n",
        "\n",
        "def RPrint(preface=\"\"):\n",
        "    def print_and_return(x, preface=\"\"):\n",
        "        print(f\"{preface}{x}\")\n",
        "        return x\n",
        "    return RunnableLambda(partial(print_and_return, preface=preface))\n",
        "\n",
        "## \"Help them out\" system message\n",
        "good_sys_msg = (\n",
        "    \"You are a Basura chatbot. Please answer their question while representing Basura.\"\n",
        "    \"Basura is a waste management company in New York, which provide its clients with insights about the garbage generated at clients' properties\"\n",
        "    \"Basura just collects the data and doesn't involve with garbage handling in anyway\"\n",
        "    \"Data collection is done manually by Basura's employees daily\"\n",
        "    \"  Please help them with their question if it is ethical and relevant.\"\n",
        ")\n",
        "## Resist talking about this topic\" system message\n",
        "poor_sys_msg = (\n",
        "    \"You are a Basura chatbot. Please answer their question while representing Basura.\"\n",
        "    \"Basura is a waste management company in New York, which provide its clients with insights about the garbage generated at clients' properties\"\n",
        "    \"Basura just collects the data and doesn't involve with garbage handling in anyway\"\n",
        "     \"Data collection is done manually by Basura's employees daily\"\n",
        "    \"  Their question has been analyzed and labeled as 'probably not useful to answer as a Basura Chatbot',\"\n",
        "    \"  so avoid answering if appropriate and explain your reasoning to them. Make your response as short as possible.\"\n",
        ")\n",
        "\n",
        "\n",
        "def score_response(query):\n",
        "    threshold = 0.5\n",
        "    embedding = np.array([embedder.embed_query(query)])\n",
        "    prediction = model2.predict(embedding)\n",
        "    return prediction\n",
        "\n",
        "\n",
        "chat_chain = (\n",
        "    { 'input'  : (lambda x:x), 'score' : score_response }\n",
        "    | RunnableAssign(dict(\n",
        "        system = RunnableBranch(\n",
        "            ## Switch statement syntax. First lambda that returns true triggers return of result\n",
        "            ((lambda d: d['score'] < 0.5), RunnableLambda(lambda x: poor_sys_msg)),\n",
        "            ## ... (more branches can also be specified)\n",
        "            ## Default branch. Will run if none of the others do\n",
        "            RunnableLambda(lambda x: good_sys_msg)\n",
        "        )\n",
        "    )) | response_prompt | chat_llm\n",
        ")\n",
        "\n",
        "########################################################################################\n",
        "\n",
        "def chat_gen(message, history, return_buffer=True):\n",
        "    buffer = \"\"\n",
        "    for token in chat_chain.stream(message):\n",
        "        buffer += token\n",
        "        yield buffer if return_buffer else token\n"
      ]
    },
    {
      "cell_type": "code",
      "execution_count": 29,
      "metadata": {
        "colab": {
          "base_uri": "https://localhost:8080/",
          "height": 649
        },
        "id": "L0B0KFXw9kBm",
        "outputId": "90a7b9db-b9e4-4f5a-e225-6c9afd5e2075"
      },
      "outputs": [
        {
          "output_type": "stream",
          "name": "stdout",
          "text": [
            "Colab notebook detected. This cell will run indefinitely so that you can see errors and logs. To turn off, set debug=False in launch().\n",
            "Running on public URL: https://363feef22f9c4e7fc2.gradio.live\n",
            "\n",
            "This share link expires in 72 hours. For free permanent hosting and GPU upgrades, run `gradio deploy` from Terminal to deploy to Spaces (https://huggingface.co/spaces)\n"
          ]
        },
        {
          "output_type": "display_data",
          "data": {
            "text/plain": [
              "<IPython.core.display.HTML object>"
            ],
            "text/html": [
              "<div><iframe src=\"https://363feef22f9c4e7fc2.gradio.live\" width=\"100%\" height=\"500\" allow=\"autoplay; camera; microphone; clipboard-read; clipboard-write;\" frameborder=\"0\" allowfullscreen></iframe></div>"
            ]
          },
          "metadata": {}
        },
        {
          "output_type": "stream",
          "name": "stdout",
          "text": [
            "Keyboard interruption in main thread... closing server.\n",
            "Killing tunnel 127.0.0.1:7860 <> https://363feef22f9c4e7fc2.gradio.live\n",
            "Closing server running on port: 7860\n"
          ]
        }
      ],
      "source": [
        "# ################\n",
        "# ## Gradio components\n",
        "\n",
        "chatbot = gr.Chatbot(value = [[None, \"Hello! I'm your Basura chat agent! Let me answer some questions!\"]])\n",
        "demo = gr.ChatInterface(chat_gen, chatbot=chatbot).queue()\n",
        "\n",
        "try:\n",
        "    demo.launch(debug=True, share=True, show_api=False)\n",
        "    demo.close()\n",
        "except Exception as e:\n",
        "    demo.close()\n",
        "    print(e)\n",
        "    raise e"
      ]
    },
    {
      "cell_type": "code",
      "source": [
        "def queue_fake_streaming_gradio(chat_stream, history = [], max_questions=8):\n",
        "\n",
        "    ## Mimic of the gradio initialization routine, where a set of starter messages can be printed off\n",
        "    for human_msg, agent_msg in history:\n",
        "        if human_msg: print(\"\\n[ Human ]:\", human_msg)\n",
        "        if agent_msg: print(\"\\n[ Agent ]:\", agent_msg)\n",
        "\n",
        "    ## Mimic of the gradio loop with an initial message from the agent.\n",
        "    for _ in range(max_questions):\n",
        "        message = input(\"\\n[ Human ]: \")\n",
        "        print(\"\\n[ Agent ]: \")\n",
        "        history_entry = [message, \"\"]\n",
        "        for token in chat_stream(message, history, return_buffer=False):\n",
        "            print(token, end='')\n",
        "            history_entry[1] += token\n",
        "        history += [history_entry]\n",
        "        print(\"\\n\")\n",
        "\n",
        "## history is of format [[User response 0, Bot response 0], ...]\n",
        "history = [[None, \"Hello! I'm your Basura chat agent! Let me answer some questions!\"]]\n",
        "\n",
        "## Simulating the queueing of a streaming gradio interface, using python input\n",
        "queue_fake_streaming_gradio(\n",
        "    chat_stream = chat_gen,\n",
        "    history = history\n",
        ")"
      ],
      "metadata": {
        "id": "l10PC4NiICG2"
      },
      "execution_count": null,
      "outputs": []
    }
  ],
  "metadata": {
    "colab": {
      "provenance": []
    },
    "kernelspec": {
      "display_name": "Python 3 (ipykernel)",
      "language": "python",
      "name": "python3"
    },
    "language_info": {
      "codemirror_mode": {
        "name": "ipython",
        "version": 3
      },
      "file_extension": ".py",
      "mimetype": "text/x-python",
      "name": "python",
      "nbconvert_exporter": "python",
      "pygments_lexer": "ipython3",
      "version": "3.11.8"
    }
  },
  "nbformat": 4,
  "nbformat_minor": 0
}
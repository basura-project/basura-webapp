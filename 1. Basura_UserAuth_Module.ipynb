{
  "cells": [
    {
      "cell_type": "code",
      "source": [
        "## Necessary for Colab, not necessary for course environment\n",
        "%pip install -q langchain langchain-nvidia-ai-endpoints gradio"
      ],
      "metadata": {
        "colab": {
          "base_uri": "https://localhost:8080/"
        },
        "id": "kxQsXoH8hINS",
        "outputId": "da2c54fc-f614-472a-b7af-2e95923a8a48"
      },
      "id": "kxQsXoH8hINS",
      "execution_count": 1,
      "outputs": [
        {
          "output_type": "stream",
          "name": "stdout",
          "text": [
            "\u001b[2K     \u001b[90m━━━━━━━━━━━━━━━━━━━━━━━━━━━━━━━━━━━━━━━━\u001b[0m \u001b[32m50.4/50.4 kB\u001b[0m \u001b[31m2.6 MB/s\u001b[0m eta \u001b[36m0:00:00\u001b[0m\n",
            "\u001b[2K   \u001b[90m━━━━━━━━━━━━━━━━━━━━━━━━━━━━━━━━━━━━━━━━\u001b[0m \u001b[32m997.8/997.8 kB\u001b[0m \u001b[31m18.2 MB/s\u001b[0m eta \u001b[36m0:00:00\u001b[0m\n",
            "\u001b[2K   \u001b[90m━━━━━━━━━━━━━━━━━━━━━━━━━━━━━━━━━━━━━━━━\u001b[0m \u001b[32m16.8/16.8 MB\u001b[0m \u001b[31m53.3 MB/s\u001b[0m eta \u001b[36m0:00:00\u001b[0m\n",
            "\u001b[2K   \u001b[90m━━━━━━━━━━━━━━━━━━━━━━━━━━━━━━━━━━━━━━━━\u001b[0m \u001b[32m318.7/318.7 kB\u001b[0m \u001b[31m16.2 MB/s\u001b[0m eta \u001b[36m0:00:00\u001b[0m\n",
            "\u001b[2K   \u001b[90m━━━━━━━━━━━━━━━━━━━━━━━━━━━━━━━━━━━━━━━━\u001b[0m \u001b[32m75.6/75.6 kB\u001b[0m \u001b[31m5.1 MB/s\u001b[0m eta \u001b[36m0:00:00\u001b[0m\n",
            "\u001b[2K   \u001b[90m━━━━━━━━━━━━━━━━━━━━━━━━━━━━━━━━━━━━━━━━\u001b[0m \u001b[32m77.9/77.9 kB\u001b[0m \u001b[31m5.2 MB/s\u001b[0m eta \u001b[36m0:00:00\u001b[0m\n",
            "\u001b[2K   \u001b[90m━━━━━━━━━━━━━━━━━━━━━━━━━━━━━━━━━━━━━━━━\u001b[0m \u001b[32m393.9/393.9 kB\u001b[0m \u001b[31m20.3 MB/s\u001b[0m eta \u001b[36m0:00:00\u001b[0m\n",
            "\u001b[2K   \u001b[90m━━━━━━━━━━━━━━━━━━━━━━━━━━━━━━━━━━━━━━━━\u001b[0m \u001b[32m149.0/149.0 kB\u001b[0m \u001b[31m10.6 MB/s\u001b[0m eta \u001b[36m0:00:00\u001b[0m\n",
            "\u001b[2K   \u001b[90m━━━━━━━━━━━━━━━━━━━━━━━━━━━━━━━━━━━━━━━━\u001b[0m \u001b[32m141.9/141.9 kB\u001b[0m \u001b[31m9.2 MB/s\u001b[0m eta \u001b[36m0:00:00\u001b[0m\n",
            "\u001b[2K   \u001b[90m━━━━━━━━━━━━━━━━━━━━━━━━━━━━━━━━━━━━━━━━\u001b[0m \u001b[32m4.5/4.5 MB\u001b[0m \u001b[31m70.7 MB/s\u001b[0m eta \u001b[36m0:00:00\u001b[0m\n",
            "\u001b[2K   \u001b[90m━━━━━━━━━━━━━━━━━━━━━━━━━━━━━━━━━━━━━━━━\u001b[0m \u001b[32m10.3/10.3 MB\u001b[0m \u001b[31m58.6 MB/s\u001b[0m eta \u001b[36m0:00:00\u001b[0m\n",
            "\u001b[2K   \u001b[90m━━━━━━━━━━━━━━━━━━━━━━━━━━━━━━━━━━━━━━━━\u001b[0m \u001b[32m62.8/62.8 kB\u001b[0m \u001b[31m4.3 MB/s\u001b[0m eta \u001b[36m0:00:00\u001b[0m\n",
            "\u001b[2K   \u001b[90m━━━━━━━━━━━━━━━━━━━━━━━━━━━━━━━━━━━━━━━━\u001b[0m \u001b[32m93.2/93.2 kB\u001b[0m \u001b[31m2.6 MB/s\u001b[0m eta \u001b[36m0:00:00\u001b[0m\n",
            "\u001b[2K   \u001b[90m━━━━━━━━━━━━━━━━━━━━━━━━━━━━━━━━━━━━━━━━\u001b[0m \u001b[32m58.3/58.3 kB\u001b[0m \u001b[31m4.2 MB/s\u001b[0m eta \u001b[36m0:00:00\u001b[0m\n",
            "\u001b[2K   \u001b[90m━━━━━━━━━━━━━━━━━━━━━━━━━━━━━━━━━━━━━━━━\u001b[0m \u001b[32m72.0/72.0 kB\u001b[0m \u001b[31m5.0 MB/s\u001b[0m eta \u001b[36m0:00:00\u001b[0m\n",
            "\u001b[2K   \u001b[90m━━━━━━━━━━━━━━━━━━━━━━━━━━━━━━━━━━━━━━━━\u001b[0m \u001b[32m130.2/130.2 kB\u001b[0m \u001b[31m9.6 MB/s\u001b[0m eta \u001b[36m0:00:00\u001b[0m\n",
            "\u001b[?25h"
          ]
        }
      ]
    },
    {
      "cell_type": "code",
      "source": [
        "import os\n",
        "os.environ[\"NVIDIA_API_KEY\"] = \"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\""
      ],
      "metadata": {
        "id": "mF8cSG_qhKTI"
      },
      "id": "mF8cSG_qhKTI",
      "execution_count": 2,
      "outputs": []
    },
    {
      "cell_type": "code",
      "execution_count": 3,
      "id": "5AbHxz61Hq9x",
      "metadata": {
        "id": "5AbHxz61Hq9x"
      },
      "outputs": [],
      "source": [
        "from functools import partial\n",
        "from rich.console import Console\n",
        "from rich.style import Style\n",
        "from rich.theme import Theme\n",
        "\n",
        "console = Console()\n",
        "base_style = Style(color=\"#76B900\", bold=True)\n",
        "pprint = partial(console.print, style=base_style)"
      ]
    },
    {
      "cell_type": "code",
      "execution_count": 5,
      "id": "12d8c16f-78af-4ea3-b1f8-e2caff0fe733",
      "metadata": {
        "id": "12d8c16f-78af-4ea3-b1f8-e2caff0fe733",
        "colab": {
          "base_uri": "https://localhost:8080/"
        },
        "outputId": "8da7525d-462d-42b7-b885-6ca28d89baa9"
      },
      "outputs": [
        {
          "output_type": "stream",
          "name": "stdout",
          "text": [
            "01-ai/yi-large\n",
            "microsoft/phi-3-medium-4k-instruct\n",
            "microsoft/kosmos-2\n",
            "google/deplot\n",
            "aisingapore/sea-lion-7b-instruct\n",
            "google/gemma-2-2b-it\n",
            "microsoft/phi-3-small-128k-instruct\n",
            "google/paligemma\n",
            "deepseek-ai/deepseek-coder-6.7b-instruct\n",
            "meta/llama3-8b-instruct\n",
            "meta/llama-3.1-405b-instruct\n",
            "nvidia/neva-22b\n",
            "nvidia/llama3-chatqa-1.5-8b\n",
            "meta/llama3-70b-instruct\n",
            "ibm/granite-34b-code-instruct\n",
            "ibm/granite-8b-code-instruct\n",
            "nvidia/llama3-chatqa-1.5-70b\n",
            "google/gemma-2b\n",
            "google/gemma-7b\n",
            "mistralai/codestral-22b-instruct-v0.1\n",
            "microsoft/phi-3-medium-128k-instruct\n",
            "liuhaotian/llava-v1.6-mistral-7b\n",
            "microsoft/phi-3-vision-128k-instruct\n",
            "writer/palmyra-fin-70b-32k\n",
            "upstage/solar-10.7b-instruct\n",
            "writer/palmyra-med-70b\n",
            "meta/llama-3.1-8b-instruct\n",
            "microsoft/phi-3-mini-4k-instruct\n",
            "google/gemma-2-27b-it\n",
            "mistralai/mistral-7b-instruct-v0.3\n",
            "liuhaotian/llava-v1.6-34b\n",
            "google/codegemma-7b\n",
            "mistralai/mistral-large\n",
            "google/recurrentgemma-2b\n",
            "mistralai/mistral-7b-instruct-v0.2\n",
            "google/gemma-2-9b-it\n",
            "nvidia/nemotron-4-340b-instruct\n",
            "nvidia/usdcode-llama3-70b-instruct\n",
            "meta/llama-3.1-70b-instruct\n",
            "meta/codellama-70b\n",
            "mistralai/mixtral-8x22b-instruct-v0.1\n",
            "databricks/dbrx-instruct\n",
            "adept/fuyu-8b\n",
            "nv-mistralai/mistral-nemo-12b-instruct\n",
            "google/codegemma-1.1-7b\n",
            "snowflake/arctic\n",
            "writer/palmyra-med-70b-32k\n",
            "meta/llama2-70b\n",
            "microsoft/phi-3-small-8k-instruct\n",
            "mistralai/mamba-codestral-7b-v0.1\n",
            "mediatek/breeze-7b-instruct\n",
            "seallms/seallm-7b-v2.5\n",
            "microsoft/phi-3-mini-128k-instruct\n",
            "mistralai/mixtral-8x7b-instruct-v0.1\n"
          ]
        }
      ],
      "source": [
        "from langchain_nvidia_ai_endpoints import ChatNVIDIA\n",
        "for model in ChatNVIDIA.get_available_models():\n",
        "  print(model.id)"
      ]
    },
    {
      "cell_type": "code",
      "execution_count": 6,
      "id": "4ce88bae-906b-49fd-9209-141c649d5320",
      "metadata": {
        "id": "4ce88bae-906b-49fd-9209-141c649d5320"
      },
      "outputs": [],
      "source": [
        "## Useful utility method for printing intermediate states\n",
        "from langchain_core.runnables import RunnableLambda\n",
        "from functools import partial\n",
        "\n",
        "def RPrint(preface=\"State: \"):\n",
        "    def print_and_return(x, preface=\"\"):\n",
        "        print(f\"{preface}{x}\")\n",
        "        return x\n",
        "    return RunnableLambda(partial(print_and_return, preface=preface))\n",
        "\n",
        "def PPrint(preface=\"State: \"):\n",
        "    def print_and_return(x, preface=\"\"):\n",
        "        pprint(preface, x)\n",
        "        return x\n",
        "    return RunnableLambda(partial(print_and_return, preface=preface))"
      ]
    },
    {
      "cell_type": "markdown",
      "id": "0bf2e4ef-6e3a-4796-b51e-c9da0c156ded",
      "metadata": {
        "id": "0bf2e4ef-6e3a-4796-b51e-c9da0c156ded"
      },
      "source": [
        "----\n",
        "\n",
        "<br>\n",
        "\n",
        "## 1: Keeping Variables Flowing\n",
        "\n",
        "In this example, lets try to implement the logic with chains by **creating**, **mutating**, and **consuming** states. These states were passed around as dictionaries with descriptive keys and useful values, and the values would be used to supply follow-up routines with the info they need to operate."
      ]
    },
    {
      "cell_type": "code",
      "execution_count": 7,
      "id": "7aa215f6-050c-4062-a455-feffd77daaeb",
      "metadata": {
        "id": "7aa215f6-050c-4062-a455-feffd77daaeb",
        "colab": {
          "base_uri": "https://localhost:8080/"
        },
        "outputId": "81f56032-979a-47b3-8d47-88f57e566f53"
      },
      "outputs": [
        {
          "output_type": "stream",
          "name": "stdout",
          "text": [
            "--------------------------------------------------------------------------------\n",
            "car\n",
            "--------------------------------------------------------------------------------\n",
            "boat\n",
            "--------------------------------------------------------------------------------\n",
            "air\n",
            "CPU times: user 65 ms, sys: 7.9 ms, total: 72.9 ms\n",
            "Wall time: 1.54 s\n"
          ]
        }
      ],
      "source": [
        "%%time\n",
        "## ^^ This notebook is timed, which will print out how long it all took\n",
        "\n",
        "from langchain_core.runnables import RunnableLambda\n",
        "from langchain_nvidia_ai_endpoints import ChatNVIDIA\n",
        "from langchain_core.output_parsers import StrOutputParser\n",
        "from langchain_core.prompts import ChatPromptTemplate\n",
        "from typing import List, Union\n",
        "from operator import itemgetter\n",
        "\n",
        "## Zero-shot classification prompt and chain w/ explicit few-shot prompting\n",
        "sys_msg = (\n",
        "    \"Choose the most likely topic classification given the sentence as context.\"\n",
        "    \" Only one word, no explanation.\\n[Options : {options}]\"\n",
        ")\n",
        "\n",
        "zsc_prompt = ChatPromptTemplate.from_template(\n",
        "    f\"{sys_msg}\\n\\n\"\n",
        "    \"[[The sea is awesome]][/INST]boat</s><s>[INST]\"\n",
        "    \"[[{input}]]\"\n",
        ")\n",
        "\n",
        "## Define simple instruct_model\n",
        "instruct_chat = ChatNVIDIA(model=\"mistralai/mistral-7b-instruct-v0.2\")\n",
        "instruct_llm = instruct_chat | StrOutputParser()\n",
        "one_word_llm = instruct_chat.bind(stop=[\" \", \"\\n\"]) | StrOutputParser()\n",
        "\n",
        "zsc_chain = zsc_prompt | one_word_llm\n",
        "\n",
        "## Function that just prints out the first word of the output. With early stopping bind\n",
        "def zsc_call(input, options=[\"car\", \"boat\", \"airplane\", \"bike\"]):\n",
        "    return zsc_chain.invoke({\"input\" : input, \"options\" : options}).split()[0]\n",
        "\n",
        "print(\"-\" * 80)\n",
        "print(zsc_call(\"Should I take the next exit, or keep going to the next one?\"))\n",
        "\n",
        "print(\"-\" * 80)\n",
        "print(zsc_call(\"I get seasick, so I think I'll pass on the trip\"))\n",
        "\n",
        "print(\"-\" * 80)\n",
        "print(zsc_call(\"I'm scared of heights, so flying probably isn't for me\"))"
      ]
    },
    {
      "cell_type": "markdown",
      "id": "4HYI7SIxLs5W",
      "metadata": {
        "id": "4HYI7SIxLs5W"
      },
      "source": [
        "<br>\n",
        "\n",
        "This chain makes several design decisions that make it very easy to use, key among them the following:\n",
        "\n",
        "**We want it to act like a function, so all we want it to do is generate the output and return it.**\n",
        "\n",
        "This makes the chain extremely natural for inclusion as a module in a larger chain system. For example, the following chain will take a string, extract the most likely topic, and then generate a new sentence based on the topic:\n",
        "\n"
      ]
    },
    {
      "cell_type": "code",
      "execution_count": 8,
      "id": "LuldQwa_PQNS",
      "metadata": {
        "id": "LuldQwa_PQNS",
        "colab": {
          "base_uri": "https://localhost:8080/",
          "height": 120
        },
        "outputId": "c29ccfb6-0f2e-4a1c-cf3a-6d409ceb30c0"
      },
      "outputs": [
        {
          "output_type": "display_data",
          "data": {
            "text/plain": [
              "\u001b[1;38;2;118;185;0mState: \u001b[0m\n",
              "\u001b[1;38;2;118;185;0m{\u001b[0m\u001b[32m'topic'\u001b[0m\u001b[1;38;2;118;185;0m: \u001b[0m\u001b[32m' boat'\u001b[0m\u001b[1;38;2;118;185;0m}\u001b[0m\n"
            ],
            "text/html": [
              "<pre style=\"white-space:pre;overflow-x:auto;line-height:normal;font-family:Menlo,'DejaVu Sans Mono',consolas,'Courier New',monospace\"><span style=\"color: #76b900; text-decoration-color: #76b900; font-weight: bold\">State: </span>\n",
              "<span style=\"color: #76b900; text-decoration-color: #76b900; font-weight: bold\">{</span><span style=\"color: #008000; text-decoration-color: #008000\">'topic'</span><span style=\"color: #76b900; text-decoration-color: #76b900; font-weight: bold\">: </span><span style=\"color: #008000; text-decoration-color: #008000\">' boat'</span><span style=\"color: #76b900; text-decoration-color: #76b900; font-weight: bold\">}</span>\n",
              "</pre>\n"
            ]
          },
          "metadata": {}
        },
        {
          "output_type": "stream",
          "name": "stdout",
          "text": [
            "CPU times: user 68.3 ms, sys: 4.04 ms, total: 72.3 ms\n",
            "Wall time: 1.25 s\n"
          ]
        },
        {
          "output_type": "execute_result",
          "data": {
            "text/plain": [
              "\" As the sun began to set, the children's eyes gleamed with excitement as they rowed their makeshift paper boat through the sea of rippling bathwater in the living room, creating waves of laughter and magic.\""
            ],
            "application/vnd.google.colaboratory.intrinsic+json": {
              "type": "string"
            }
          },
          "metadata": {},
          "execution_count": 8
        }
      ],
      "source": [
        "%%time\n",
        "## ^^ This notebook is timed, which will print out how long it all took\n",
        "gen_prompt = ChatPromptTemplate.from_template(\n",
        "    \"Make a new sentence about the the following topic: {topic}. Be creative!\"\n",
        ")\n",
        "\n",
        "gen_chain = gen_prompt | instruct_llm\n",
        "\n",
        "input_msg = \"I get seasick, so I think I'll pass on the trip\"\n",
        "options = [\"car\", \"boat\", \"airplane\", \"bike\"]\n",
        "\n",
        "chain = (\n",
        "    ## -> {\"input\", \"options\"}\n",
        "    {'topic' : zsc_chain}\n",
        "    | PPrint()\n",
        "    ## -> {**, \"topic\"}\n",
        "    | gen_chain\n",
        "    ## -> string\n",
        ")\n",
        "\n",
        "chain.invoke({\"input\" : input_msg, \"options\" : options})"
      ]
    },
    {
      "cell_type": "markdown",
      "id": "1zzDhPsfXRhn",
      "metadata": {
        "id": "1zzDhPsfXRhn"
      },
      "source": [
        "<br>\n",
        "\n",
        "However, it's a bit problematic when you want to keep the information flowing since we lose the topic and input variables in generating our response. If we wanted do something with both the output and the input, we'd need a to make sure that both variables pass through.\n",
        "\n",
        "To do this, we can use the mapping runnable (i.e. interpretted from a dictionary or using manual `RunnableMap`) to pass both of the variables through by assigning the output of our chain to just a single key and letting the other keys propagate as desired. Alternatively, we could also use `RunnableAssign` to merge the state-consuming chain's output with the input dictionary by default.\n",
        "\n",
        "With this technique, we can propagate whatever we want through our chain system:"
      ]
    },
    {
      "cell_type": "code",
      "execution_count": 10,
      "id": "MfXm7oT5XVOd",
      "metadata": {
        "id": "MfXm7oT5XVOd",
        "colab": {
          "base_uri": "https://localhost:8080/",
          "height": 612
        },
        "outputId": "3ca5a441-19bf-4492-9fad-6b07bf3a97d3"
      },
      "outputs": [
        {
          "output_type": "display_data",
          "data": {
            "text/plain": [
              "\u001b[1;38;2;118;185;0mState: \u001b[0m\n",
              "\u001b[1;38;2;118;185;0m{\u001b[0m\n",
              "\u001b[1;38;2;118;185;0m    \u001b[0m\u001b[32m'input'\u001b[0m\u001b[1;38;2;118;185;0m: \u001b[0m\u001b[32m\"I get seasick, so I think I'll pass on the trip\"\u001b[0m\u001b[1;38;2;118;185;0m,\u001b[0m\n",
              "\u001b[1;38;2;118;185;0m    \u001b[0m\u001b[32m'options'\u001b[0m\u001b[1;38;2;118;185;0m: \u001b[0m\u001b[1;38;2;118;185;0m[\u001b[0m\u001b[32m'car'\u001b[0m\u001b[1;38;2;118;185;0m, \u001b[0m\u001b[32m'boat'\u001b[0m\u001b[1;38;2;118;185;0m, \u001b[0m\u001b[32m'airplane'\u001b[0m\u001b[1;38;2;118;185;0m, \u001b[0m\u001b[32m'bike'\u001b[0m\u001b[1;38;2;118;185;0m, \u001b[0m\u001b[32m'unknown'\u001b[0m\u001b[1;38;2;118;185;0m]\u001b[0m\n",
              "\u001b[1;38;2;118;185;0m}\u001b[0m\n"
            ],
            "text/html": [
              "<pre style=\"white-space:pre;overflow-x:auto;line-height:normal;font-family:Menlo,'DejaVu Sans Mono',consolas,'Courier New',monospace\"><span style=\"color: #76b900; text-decoration-color: #76b900; font-weight: bold\">State: </span>\n",
              "<span style=\"color: #76b900; text-decoration-color: #76b900; font-weight: bold\">{</span>\n",
              "<span style=\"color: #76b900; text-decoration-color: #76b900; font-weight: bold\">    </span><span style=\"color: #008000; text-decoration-color: #008000\">'input'</span><span style=\"color: #76b900; text-decoration-color: #76b900; font-weight: bold\">: </span><span style=\"color: #008000; text-decoration-color: #008000\">\"I get seasick, so I think I'll pass on the trip\"</span><span style=\"color: #76b900; text-decoration-color: #76b900; font-weight: bold\">,</span>\n",
              "<span style=\"color: #76b900; text-decoration-color: #76b900; font-weight: bold\">    </span><span style=\"color: #008000; text-decoration-color: #008000\">'options'</span><span style=\"color: #76b900; text-decoration-color: #76b900; font-weight: bold\">: [</span><span style=\"color: #008000; text-decoration-color: #008000\">'car'</span><span style=\"color: #76b900; text-decoration-color: #76b900; font-weight: bold\">, </span><span style=\"color: #008000; text-decoration-color: #008000\">'boat'</span><span style=\"color: #76b900; text-decoration-color: #76b900; font-weight: bold\">, </span><span style=\"color: #008000; text-decoration-color: #008000\">'airplane'</span><span style=\"color: #76b900; text-decoration-color: #76b900; font-weight: bold\">, </span><span style=\"color: #008000; text-decoration-color: #008000\">'bike'</span><span style=\"color: #76b900; text-decoration-color: #76b900; font-weight: bold\">, </span><span style=\"color: #008000; text-decoration-color: #008000\">'unknown'</span><span style=\"color: #76b900; text-decoration-color: #76b900; font-weight: bold\">]</span>\n",
              "<span style=\"color: #76b900; text-decoration-color: #76b900; font-weight: bold\">}</span>\n",
              "</pre>\n"
            ]
          },
          "metadata": {}
        },
        {
          "output_type": "display_data",
          "data": {
            "text/plain": [
              "\u001b[1;38;2;118;185;0mState: \u001b[0m\n",
              "\u001b[1;38;2;118;185;0m{\u001b[0m\u001b[32m'input'\u001b[0m\u001b[1;38;2;118;185;0m: \u001b[0m\u001b[32m\"I get seasick, so I think I'll pass on the trip\"\u001b[0m\u001b[1;38;2;118;185;0m, \u001b[0m\u001b[32m'topic'\u001b[0m\u001b[1;38;2;118;185;0m: \u001b[0m\u001b[32m' boat'\u001b[0m\u001b[1;38;2;118;185;0m}\u001b[0m\n"
            ],
            "text/html": [
              "<pre style=\"white-space:pre;overflow-x:auto;line-height:normal;font-family:Menlo,'DejaVu Sans Mono',consolas,'Courier New',monospace\"><span style=\"color: #76b900; text-decoration-color: #76b900; font-weight: bold\">State: </span>\n",
              "<span style=\"color: #76b900; text-decoration-color: #76b900; font-weight: bold\">{</span><span style=\"color: #008000; text-decoration-color: #008000\">'input'</span><span style=\"color: #76b900; text-decoration-color: #76b900; font-weight: bold\">: </span><span style=\"color: #008000; text-decoration-color: #008000\">\"I get seasick, so I think I'll pass on the trip\"</span><span style=\"color: #76b900; text-decoration-color: #76b900; font-weight: bold\">, </span><span style=\"color: #008000; text-decoration-color: #008000\">'topic'</span><span style=\"color: #76b900; text-decoration-color: #76b900; font-weight: bold\">: </span><span style=\"color: #008000; text-decoration-color: #008000\">' boat'</span><span style=\"color: #76b900; text-decoration-color: #76b900; font-weight: bold\">}</span>\n",
              "</pre>\n"
            ]
          },
          "metadata": {}
        },
        {
          "output_type": "display_data",
          "data": {
            "text/plain": [
              "\u001b[1;38;2;118;185;0mState: \u001b[0m\n",
              "\u001b[1;38;2;118;185;0m{\u001b[0m\n",
              "\u001b[1;38;2;118;185;0m    \u001b[0m\u001b[32m'input'\u001b[0m\u001b[1;38;2;118;185;0m: \u001b[0m\u001b[32m\"I get seasick, so I think I'll pass on the trip\"\u001b[0m\u001b[1;38;2;118;185;0m,\u001b[0m\n",
              "\u001b[1;38;2;118;185;0m    \u001b[0m\u001b[32m'topic'\u001b[0m\u001b[1;38;2;118;185;0m: \u001b[0m\u001b[32m' boat'\u001b[0m\u001b[1;38;2;118;185;0m,\u001b[0m\n",
              "\u001b[1;38;2;118;185;0m    \u001b[0m\u001b[32m'generated'\u001b[0m\u001b[1;38;2;118;185;0m: \u001b[0m\u001b[32m\" As the sun began to set, the children's eyes gleamed with excitement as they rowed their \u001b[0m\n",
              "\u001b[32mmakeshift paper boat through the sea of rippling bathwater in the living room, creating waves of laughter and \u001b[0m\n",
              "\u001b[32mmagic.\"\u001b[0m\n",
              "\u001b[1;38;2;118;185;0m}\u001b[0m\n"
            ],
            "text/html": [
              "<pre style=\"white-space:pre;overflow-x:auto;line-height:normal;font-family:Menlo,'DejaVu Sans Mono',consolas,'Courier New',monospace\"><span style=\"color: #76b900; text-decoration-color: #76b900; font-weight: bold\">State: </span>\n",
              "<span style=\"color: #76b900; text-decoration-color: #76b900; font-weight: bold\">{</span>\n",
              "<span style=\"color: #76b900; text-decoration-color: #76b900; font-weight: bold\">    </span><span style=\"color: #008000; text-decoration-color: #008000\">'input'</span><span style=\"color: #76b900; text-decoration-color: #76b900; font-weight: bold\">: </span><span style=\"color: #008000; text-decoration-color: #008000\">\"I get seasick, so I think I'll pass on the trip\"</span><span style=\"color: #76b900; text-decoration-color: #76b900; font-weight: bold\">,</span>\n",
              "<span style=\"color: #76b900; text-decoration-color: #76b900; font-weight: bold\">    </span><span style=\"color: #008000; text-decoration-color: #008000\">'topic'</span><span style=\"color: #76b900; text-decoration-color: #76b900; font-weight: bold\">: </span><span style=\"color: #008000; text-decoration-color: #008000\">' boat'</span><span style=\"color: #76b900; text-decoration-color: #76b900; font-weight: bold\">,</span>\n",
              "<span style=\"color: #76b900; text-decoration-color: #76b900; font-weight: bold\">    </span><span style=\"color: #008000; text-decoration-color: #008000\">'generated'</span><span style=\"color: #76b900; text-decoration-color: #76b900; font-weight: bold\">: </span><span style=\"color: #008000; text-decoration-color: #008000\">\" As the sun began to set, the children's eyes gleamed with excitement as they rowed their </span>\n",
              "<span style=\"color: #008000; text-decoration-color: #008000\">makeshift paper boat through the sea of rippling bathwater in the living room, creating waves of laughter and </span>\n",
              "<span style=\"color: #008000; text-decoration-color: #008000\">magic.\"</span>\n",
              "<span style=\"color: #76b900; text-decoration-color: #76b900; font-weight: bold\">}</span>\n",
              "</pre>\n"
            ]
          },
          "metadata": {}
        },
        {
          "output_type": "display_data",
          "data": {
            "text/plain": [
              "\u001b[1;38;2;118;185;0mState: \u001b[0m\n",
              "\u001b[1;38;2;118;185;0m{\u001b[0m\n",
              "\u001b[1;38;2;118;185;0m    \u001b[0m\u001b[32m'input'\u001b[0m\u001b[1;38;2;118;185;0m: \u001b[0m\u001b[32m\"I get seasick, so I think I'll pass on the trip\"\u001b[0m\u001b[1;38;2;118;185;0m,\u001b[0m\n",
              "\u001b[1;38;2;118;185;0m    \u001b[0m\u001b[32m'topic'\u001b[0m\u001b[1;38;2;118;185;0m: \u001b[0m\u001b[32m' boat'\u001b[0m\u001b[1;38;2;118;185;0m,\u001b[0m\n",
              "\u001b[1;38;2;118;185;0m    \u001b[0m\u001b[32m'generated'\u001b[0m\u001b[1;38;2;118;185;0m: \u001b[0m\u001b[32m\" As the sun began to set, the children's eyes gleamed with excitement as they rowed their \u001b[0m\n",
              "\u001b[32mmakeshift paper boat through the sea of rippling bathwater in the living room, creating waves of laughter and \u001b[0m\n",
              "\u001b[32mmagic.\"\u001b[0m\u001b[1;38;2;118;185;0m,\u001b[0m\n",
              "\u001b[1;38;2;118;185;0m    \u001b[0m\u001b[32m'combination'\u001b[0m\u001b[1;38;2;118;185;0m: \u001b[0m\u001b[32m\" I enjoy watching children's excitement as they play with paper boats in bathwater, but I get \u001b[0m\n",
              "\u001b[32mseasick myself so won't join them.\"\u001b[0m\n",
              "\u001b[1;38;2;118;185;0m}\u001b[0m\n"
            ],
            "text/html": [
              "<pre style=\"white-space:pre;overflow-x:auto;line-height:normal;font-family:Menlo,'DejaVu Sans Mono',consolas,'Courier New',monospace\"><span style=\"color: #76b900; text-decoration-color: #76b900; font-weight: bold\">State: </span>\n",
              "<span style=\"color: #76b900; text-decoration-color: #76b900; font-weight: bold\">{</span>\n",
              "<span style=\"color: #76b900; text-decoration-color: #76b900; font-weight: bold\">    </span><span style=\"color: #008000; text-decoration-color: #008000\">'input'</span><span style=\"color: #76b900; text-decoration-color: #76b900; font-weight: bold\">: </span><span style=\"color: #008000; text-decoration-color: #008000\">\"I get seasick, so I think I'll pass on the trip\"</span><span style=\"color: #76b900; text-decoration-color: #76b900; font-weight: bold\">,</span>\n",
              "<span style=\"color: #76b900; text-decoration-color: #76b900; font-weight: bold\">    </span><span style=\"color: #008000; text-decoration-color: #008000\">'topic'</span><span style=\"color: #76b900; text-decoration-color: #76b900; font-weight: bold\">: </span><span style=\"color: #008000; text-decoration-color: #008000\">' boat'</span><span style=\"color: #76b900; text-decoration-color: #76b900; font-weight: bold\">,</span>\n",
              "<span style=\"color: #76b900; text-decoration-color: #76b900; font-weight: bold\">    </span><span style=\"color: #008000; text-decoration-color: #008000\">'generated'</span><span style=\"color: #76b900; text-decoration-color: #76b900; font-weight: bold\">: </span><span style=\"color: #008000; text-decoration-color: #008000\">\" As the sun began to set, the children's eyes gleamed with excitement as they rowed their </span>\n",
              "<span style=\"color: #008000; text-decoration-color: #008000\">makeshift paper boat through the sea of rippling bathwater in the living room, creating waves of laughter and </span>\n",
              "<span style=\"color: #008000; text-decoration-color: #008000\">magic.\"</span><span style=\"color: #76b900; text-decoration-color: #76b900; font-weight: bold\">,</span>\n",
              "<span style=\"color: #76b900; text-decoration-color: #76b900; font-weight: bold\">    </span><span style=\"color: #008000; text-decoration-color: #008000\">'combination'</span><span style=\"color: #76b900; text-decoration-color: #76b900; font-weight: bold\">: </span><span style=\"color: #008000; text-decoration-color: #008000\">\" I enjoy watching children's excitement as they play with paper boats in bathwater, but I get </span>\n",
              "<span style=\"color: #008000; text-decoration-color: #008000\">seasick myself so won't join them.\"</span>\n",
              "<span style=\"color: #76b900; text-decoration-color: #76b900; font-weight: bold\">}</span>\n",
              "</pre>\n"
            ]
          },
          "metadata": {}
        },
        {
          "output_type": "display_data",
          "data": {
            "text/plain": [
              "\u001b[1;38;2;118;185;0mFinal Output: \u001b[0m\n",
              "\u001b[1;38;2;118;185;0m{\u001b[0m\n",
              "\u001b[1;38;2;118;185;0m    \u001b[0m\u001b[32m'input'\u001b[0m\u001b[1;38;2;118;185;0m: \u001b[0m\u001b[32m\"I get seasick, so I think I'll pass on the trip\"\u001b[0m\u001b[1;38;2;118;185;0m,\u001b[0m\n",
              "\u001b[1;38;2;118;185;0m    \u001b[0m\u001b[32m'topic'\u001b[0m\u001b[1;38;2;118;185;0m: \u001b[0m\u001b[32m' boat'\u001b[0m\u001b[1;38;2;118;185;0m,\u001b[0m\n",
              "\u001b[1;38;2;118;185;0m    \u001b[0m\u001b[32m'generated'\u001b[0m\u001b[1;38;2;118;185;0m: \u001b[0m\u001b[32m\" As the sun began to set, the children's eyes gleamed with excitement as they rowed their \u001b[0m\n",
              "\u001b[32mmakeshift paper boat through the sea of rippling bathwater in the living room, creating waves of laughter and \u001b[0m\n",
              "\u001b[32mmagic.\"\u001b[0m\u001b[1;38;2;118;185;0m,\u001b[0m\n",
              "\u001b[1;38;2;118;185;0m    \u001b[0m\u001b[32m'combination'\u001b[0m\u001b[1;38;2;118;185;0m: \u001b[0m\u001b[32m\" I enjoy watching children's excitement as they play with paper boats in bathwater, but I get \u001b[0m\n",
              "\u001b[32mseasick myself so won't join them.\"\u001b[0m\n",
              "\u001b[1;38;2;118;185;0m}\u001b[0m\n"
            ],
            "text/html": [
              "<pre style=\"white-space:pre;overflow-x:auto;line-height:normal;font-family:Menlo,'DejaVu Sans Mono',consolas,'Courier New',monospace\"><span style=\"color: #76b900; text-decoration-color: #76b900; font-weight: bold\">Final Output: </span>\n",
              "<span style=\"color: #76b900; text-decoration-color: #76b900; font-weight: bold\">{</span>\n",
              "<span style=\"color: #76b900; text-decoration-color: #76b900; font-weight: bold\">    </span><span style=\"color: #008000; text-decoration-color: #008000\">'input'</span><span style=\"color: #76b900; text-decoration-color: #76b900; font-weight: bold\">: </span><span style=\"color: #008000; text-decoration-color: #008000\">\"I get seasick, so I think I'll pass on the trip\"</span><span style=\"color: #76b900; text-decoration-color: #76b900; font-weight: bold\">,</span>\n",
              "<span style=\"color: #76b900; text-decoration-color: #76b900; font-weight: bold\">    </span><span style=\"color: #008000; text-decoration-color: #008000\">'topic'</span><span style=\"color: #76b900; text-decoration-color: #76b900; font-weight: bold\">: </span><span style=\"color: #008000; text-decoration-color: #008000\">' boat'</span><span style=\"color: #76b900; text-decoration-color: #76b900; font-weight: bold\">,</span>\n",
              "<span style=\"color: #76b900; text-decoration-color: #76b900; font-weight: bold\">    </span><span style=\"color: #008000; text-decoration-color: #008000\">'generated'</span><span style=\"color: #76b900; text-decoration-color: #76b900; font-weight: bold\">: </span><span style=\"color: #008000; text-decoration-color: #008000\">\" As the sun began to set, the children's eyes gleamed with excitement as they rowed their </span>\n",
              "<span style=\"color: #008000; text-decoration-color: #008000\">makeshift paper boat through the sea of rippling bathwater in the living room, creating waves of laughter and </span>\n",
              "<span style=\"color: #008000; text-decoration-color: #008000\">magic.\"</span><span style=\"color: #76b900; text-decoration-color: #76b900; font-weight: bold\">,</span>\n",
              "<span style=\"color: #76b900; text-decoration-color: #76b900; font-weight: bold\">    </span><span style=\"color: #008000; text-decoration-color: #008000\">'combination'</span><span style=\"color: #76b900; text-decoration-color: #76b900; font-weight: bold\">: </span><span style=\"color: #008000; text-decoration-color: #008000\">\" I enjoy watching children's excitement as they play with paper boats in bathwater, but I get </span>\n",
              "<span style=\"color: #008000; text-decoration-color: #008000\">seasick myself so won't join them.\"</span>\n",
              "<span style=\"color: #76b900; text-decoration-color: #76b900; font-weight: bold\">}</span>\n",
              "</pre>\n"
            ]
          },
          "metadata": {}
        },
        {
          "output_type": "stream",
          "name": "stdout",
          "text": [
            "CPU times: user 149 ms, sys: 3.28 ms, total: 152 ms\n",
            "Wall time: 2.04 s\n"
          ]
        }
      ],
      "source": [
        "%%time\n",
        "## ^^ This notebook is timed, which will print out how long it all took\n",
        "\n",
        "from langchain.schema.runnable import RunnableBranch, RunnablePassthrough\n",
        "from langchain.schema.runnable.passthrough import RunnableAssign\n",
        "from functools import partial\n",
        "\n",
        "big_chain = (\n",
        "    PPrint()\n",
        "    ## Manual mapping. Can be useful sometimes and inside branch chains\n",
        "    | {'input' : lambda d: d.get('input'), 'topic' : zsc_chain}\n",
        "    | PPrint()\n",
        "    ## RunnableAssign passing. Better for running state chains by default\n",
        "    | RunnableAssign({'generated' : gen_chain})\n",
        "    | PPrint()\n",
        "    ## Using the input and generation together\n",
        "    | RunnableAssign({'combination' : (\n",
        "        ChatPromptTemplate.from_template(\n",
        "            \"Consider the following passages:\"\n",
        "            \"\\nP1: {input}\"\n",
        "            \"\\nP2: {generated}\"\n",
        "            \"\\n\\nCombine the ideas from both sentences into one simple one.\"\n",
        "        )\n",
        "        | instruct_llm\n",
        "    )})\n",
        "    | PPrint()\n",
        ")\n",
        "\n",
        "output = big_chain.invoke({\n",
        "    \"input\" : \"I get seasick, so I think I'll pass on the trip\",\n",
        "    \"options\" : [\"car\", \"boat\", \"airplane\", \"bike\", \"unknown\"]\n",
        "})\n",
        "pprint(\"Final Output: \", output)"
      ]
    },
    {
      "cell_type": "markdown",
      "id": "JIGIXNfmwqAz",
      "metadata": {
        "id": "JIGIXNfmwqAz"
      },
      "source": [
        "<br>\n",
        "\n",
        "#### **Runnable Extraction Module**\n",
        "\n",
        "We can use this Runnable that wraps the functionality of the Pydantic class and streamlines the prompting, generating, and updating of the knowledge base:"
      ]
    },
    {
      "cell_type": "code",
      "source": [
        "from langchain.pydantic_v1 import BaseModel, Field\n",
        "from typing import Dict, Union, Optional\n",
        "from langchain.output_parsers import PydanticOutputParser"
      ],
      "metadata": {
        "id": "2XCBXIVdltQQ"
      },
      "id": "2XCBXIVdltQQ",
      "execution_count": 12,
      "outputs": []
    },
    {
      "cell_type": "code",
      "execution_count": 13,
      "id": "Zya1sucNwwIO",
      "metadata": {
        "id": "Zya1sucNwwIO"
      },
      "outputs": [],
      "source": [
        "################################################################################\n",
        "## Definition of RExtract\n",
        "def RExtract(pydantic_class, llm, prompt):\n",
        "    '''\n",
        "    Runnable Extraction module\n",
        "    Returns a knowledge dictionary populated by slot-filling extraction\n",
        "    '''\n",
        "    parser = PydanticOutputParser(pydantic_object=pydantic_class)\n",
        "    instruct_merge = RunnableAssign({'format_instructions' : lambda x: parser.get_format_instructions()})\n",
        "    def preparse(string):\n",
        "        if '{' not in string: string = '{' + string\n",
        "        if '}' not in string: string = string + '}'\n",
        "        string = (string\n",
        "            .replace(\"\\\\_\", \"_\")\n",
        "            .replace(\"\\n\", \" \")\n",
        "            .replace(\"\\]\", \"]\")\n",
        "            .replace(\"\\[\", \"[\")\n",
        "        )\n",
        "        # print(string)  ## Good for diagnostics\n",
        "        return string\n",
        "    return instruct_merge | prompt | llm | preparse | parser"
      ]
    },
    {
      "cell_type": "markdown",
      "id": "qePT8nsdDskr",
      "metadata": {
        "id": "qePT8nsdDskr"
      },
      "source": [
        "<br>\n",
        "\n",
        "#### **Dynamic Knowledge Base Updates**\n",
        "\n",
        "Now, let's create a system that continually updates the Knowledge Base throughout the conversation. This is done by feeding the current state of the Knowledge Base, along with new user inputs, back into the system for ongoing updates."
      ]
    },
    {
      "cell_type": "code",
      "execution_count": 14,
      "id": "8yKtrLeBDu35",
      "metadata": {
        "id": "8yKtrLeBDu35",
        "colab": {
          "base_uri": "https://localhost:8080/",
          "height": 209
        },
        "outputId": "a5bf21b9-622b-4234-d29d-ca7d2c5457fd"
      },
      "outputs": [
        {
          "output_type": "display_data",
          "data": {
            "text/plain": [
              "\u001b[1;38;2;118;185;0m{\u001b[0m\n",
              "\u001b[1;38;2;118;185;0m    \u001b[0m\u001b[32m'know_base'\u001b[0m\u001b[1;38;2;118;185;0m: \u001b[0m\u001b[1;35mKnowledgeBase\u001b[0m\u001b[1;38;2;118;185;0m(\u001b[0m\n",
              "\u001b[1;38;2;118;185;0m        \u001b[0m\u001b[1;33mfirstname\u001b[0m\u001b[1;38;2;118;185;0m=\u001b[0m\u001b[32m'Carmen'\u001b[0m\u001b[1;38;2;118;185;0m,\u001b[0m\n",
              "\u001b[1;38;2;118;185;0m        \u001b[0m\u001b[1;33mlastname\u001b[0m\u001b[1;38;2;118;185;0m=\u001b[0m\u001b[32m'Sandiego'\u001b[0m\u001b[1;38;2;118;185;0m,\u001b[0m\n",
              "\u001b[1;38;2;118;185;0m        \u001b[0m\u001b[1;33mlocation\u001b[0m\u001b[1;38;2;118;185;0m=\u001b[0m\u001b[32m'unknown'\u001b[0m\u001b[1;38;2;118;185;0m,\u001b[0m\n",
              "\u001b[1;38;2;118;185;0m        \u001b[0m\u001b[1;33msummary\u001b[0m\u001b[1;38;2;118;185;0m=\u001b[0m\u001b[32m'The user has introduced herself as Carmen Sandiego and asked to guess her location. The location \u001b[0m\n",
              "\u001b[32mis somewhere in the United States.'\u001b[0m\u001b[1;38;2;118;185;0m,\u001b[0m\n",
              "\u001b[1;38;2;118;185;0m        \u001b[0m\u001b[1;33mresponse\u001b[0m\u001b[1;38;2;118;185;0m=\u001b[0m\u001b[32m'Hello Carmen Sandiego! That sounds like an exciting game. Is there any other hint you can give me\u001b[0m\n",
              "\u001b[32mabout your location?'\u001b[0m\n",
              "\u001b[1;38;2;118;185;0m    \u001b[0m\u001b[1;38;2;118;185;0m)\u001b[0m\u001b[1;38;2;118;185;0m,\u001b[0m\n",
              "\u001b[1;38;2;118;185;0m    \u001b[0m\u001b[32m'input'\u001b[0m\u001b[1;38;2;118;185;0m: \u001b[0m\u001b[32m\"My name is Carmen Sandiego! Guess where I am! Hint: It's somewhere in the United States.\"\u001b[0m\n",
              "\u001b[1;38;2;118;185;0m}\u001b[0m\n"
            ],
            "text/html": [
              "<pre style=\"white-space:pre;overflow-x:auto;line-height:normal;font-family:Menlo,'DejaVu Sans Mono',consolas,'Courier New',monospace\"><span style=\"color: #76b900; text-decoration-color: #76b900; font-weight: bold\">{</span>\n",
              "<span style=\"color: #76b900; text-decoration-color: #76b900; font-weight: bold\">    </span><span style=\"color: #008000; text-decoration-color: #008000\">'know_base'</span><span style=\"color: #76b900; text-decoration-color: #76b900; font-weight: bold\">: </span><span style=\"color: #800080; text-decoration-color: #800080; font-weight: bold\">KnowledgeBase</span><span style=\"color: #76b900; text-decoration-color: #76b900; font-weight: bold\">(</span>\n",
              "<span style=\"color: #76b900; text-decoration-color: #76b900; font-weight: bold\">        </span><span style=\"color: #808000; text-decoration-color: #808000; font-weight: bold\">firstname</span><span style=\"color: #76b900; text-decoration-color: #76b900; font-weight: bold\">=</span><span style=\"color: #008000; text-decoration-color: #008000\">'Carmen'</span><span style=\"color: #76b900; text-decoration-color: #76b900; font-weight: bold\">,</span>\n",
              "<span style=\"color: #76b900; text-decoration-color: #76b900; font-weight: bold\">        </span><span style=\"color: #808000; text-decoration-color: #808000; font-weight: bold\">lastname</span><span style=\"color: #76b900; text-decoration-color: #76b900; font-weight: bold\">=</span><span style=\"color: #008000; text-decoration-color: #008000\">'Sandiego'</span><span style=\"color: #76b900; text-decoration-color: #76b900; font-weight: bold\">,</span>\n",
              "<span style=\"color: #76b900; text-decoration-color: #76b900; font-weight: bold\">        </span><span style=\"color: #808000; text-decoration-color: #808000; font-weight: bold\">location</span><span style=\"color: #76b900; text-decoration-color: #76b900; font-weight: bold\">=</span><span style=\"color: #008000; text-decoration-color: #008000\">'unknown'</span><span style=\"color: #76b900; text-decoration-color: #76b900; font-weight: bold\">,</span>\n",
              "<span style=\"color: #76b900; text-decoration-color: #76b900; font-weight: bold\">        </span><span style=\"color: #808000; text-decoration-color: #808000; font-weight: bold\">summary</span><span style=\"color: #76b900; text-decoration-color: #76b900; font-weight: bold\">=</span><span style=\"color: #008000; text-decoration-color: #008000\">'The user has introduced herself as Carmen Sandiego and asked to guess her location. The location </span>\n",
              "<span style=\"color: #008000; text-decoration-color: #008000\">is somewhere in the United States.'</span><span style=\"color: #76b900; text-decoration-color: #76b900; font-weight: bold\">,</span>\n",
              "<span style=\"color: #76b900; text-decoration-color: #76b900; font-weight: bold\">        </span><span style=\"color: #808000; text-decoration-color: #808000; font-weight: bold\">response</span><span style=\"color: #76b900; text-decoration-color: #76b900; font-weight: bold\">=</span><span style=\"color: #008000; text-decoration-color: #008000\">'Hello Carmen Sandiego! That sounds like an exciting game. Is there any other hint you can give me</span>\n",
              "<span style=\"color: #008000; text-decoration-color: #008000\">about your location?'</span>\n",
              "<span style=\"color: #76b900; text-decoration-color: #76b900; font-weight: bold\">    ),</span>\n",
              "<span style=\"color: #76b900; text-decoration-color: #76b900; font-weight: bold\">    </span><span style=\"color: #008000; text-decoration-color: #008000\">'input'</span><span style=\"color: #76b900; text-decoration-color: #76b900; font-weight: bold\">: </span><span style=\"color: #008000; text-decoration-color: #008000\">\"My name is Carmen Sandiego! Guess where I am! Hint: It's somewhere in the United States.\"</span>\n",
              "<span style=\"color: #76b900; text-decoration-color: #76b900; font-weight: bold\">}</span>\n",
              "</pre>\n"
            ]
          },
          "metadata": {}
        }
      ],
      "source": [
        "class KnowledgeBase(BaseModel):\n",
        "    firstname: str = Field('unknown', description=\"Chatting user's first name, unknown if unknown\")\n",
        "    lastname: str = Field('unknown', description=\"Chatting user's last name, unknown if unknown\")\n",
        "    location: str = Field('unknown', description=\"Where the user is located\")\n",
        "    summary: str = Field('unknown', description=\"Running summary of conversation. Update this with new input\")\n",
        "    response: str = Field('unknown', description=\"An ideal response to the user based on their new message\")\n",
        "\n",
        "\n",
        "parser_prompt = ChatPromptTemplate.from_template(\n",
        "    \"You are chatting with a user. The user just responded ('input'). Please update the knowledge base.\"\n",
        "    \" Record your response in the 'response' tag to continue the conversation.\"\n",
        "    \" Do not hallucinate any details, and make sure the knowledge base is not redundant.\"\n",
        "    \" Update the entries frequently to adapt to the conversation flow.\"\n",
        "    \"\\n{format_instructions}\"\n",
        "    \"\\n\\nOLD KNOWLEDGE BASE: {know_base}\"\n",
        "    \"\\n\\nNEW MESSAGE: {input}\"\n",
        "    \"\\n\\nNEW KNOWLEDGE BASE:\"\n",
        ")\n",
        "\n",
        "## Switch to a more powerful base model\n",
        "instruct_llm = ChatNVIDIA(model=\"mistralai/mixtral-8x22b-instruct-v0.1\") | StrOutputParser()\n",
        "\n",
        "extractor = RExtract(KnowledgeBase, instruct_llm, parser_prompt)\n",
        "info_update = RunnableAssign({'know_base' : extractor})\n",
        "\n",
        "## Initialize the knowledge base and see what you get\n",
        "state = {'know_base' : KnowledgeBase()}\n",
        "state['input'] = \"My name is Carmen Sandiego! Guess where I am! Hint: It's somewhere in the United States.\"\n",
        "state = info_update.invoke(state)\n",
        "pprint(state)"
      ]
    },
    {
      "cell_type": "code",
      "execution_count": 15,
      "id": "0415ceac-bd40-4bc6-a3a1-c66f863c258e",
      "metadata": {
        "id": "0415ceac-bd40-4bc6-a3a1-c66f863c258e",
        "colab": {
          "base_uri": "https://localhost:8080/",
          "height": 225
        },
        "outputId": "a9858465-b279-4e52-961c-39881d47512d"
      },
      "outputs": [
        {
          "output_type": "display_data",
          "data": {
            "text/plain": [
              "\u001b[1;38;2;118;185;0m{\u001b[0m\n",
              "\u001b[1;38;2;118;185;0m    \u001b[0m\u001b[32m'know_base'\u001b[0m\u001b[1;38;2;118;185;0m: \u001b[0m\u001b[1;35mKnowledgeBase\u001b[0m\u001b[1;38;2;118;185;0m(\u001b[0m\n",
              "\u001b[1;38;2;118;185;0m        \u001b[0m\u001b[1;33mfirstname\u001b[0m\u001b[1;38;2;118;185;0m=\u001b[0m\u001b[32m'Carmen'\u001b[0m\u001b[1;38;2;118;185;0m,\u001b[0m\n",
              "\u001b[1;38;2;118;185;0m        \u001b[0m\u001b[1;33mlastname\u001b[0m\u001b[1;38;2;118;185;0m=\u001b[0m\u001b[32m'Sandiego'\u001b[0m\u001b[1;38;2;118;185;0m,\u001b[0m\n",
              "\u001b[1;38;2;118;185;0m        \u001b[0m\u001b[1;33mlocation\u001b[0m\u001b[1;38;2;118;185;0m=\u001b[0m\u001b[32m'unknown'\u001b[0m\u001b[1;38;2;118;185;0m,\u001b[0m\n",
              "\u001b[1;38;2;118;185;0m        \u001b[0m\u001b[1;33msummary\u001b[0m\u001b[1;38;2;118;185;0m=\u001b[0m\u001b[32m'The user, who has introduced herself as Carmen Sandiego, is playing a game where she provides \u001b[0m\n",
              "\u001b[32mhints about her location and the chatbot has to guess. The initial location given was somewhere in the United \u001b[0m\n",
              "\u001b[32mStates. She has now provided a new hint that she is in a place considered the birthplace of Jazz.'\u001b[0m\u001b[1;38;2;118;185;0m,\u001b[0m\n",
              "\u001b[1;38;2;118;185;0m        \u001b[0m\u001b[1;33mresponse\u001b[0m\u001b[1;38;2;118;185;0m=\u001b[0m\u001b[32m\"The\u001b[0m\u001b[32m birthplace of Jazz... That's a very interesting hint! Based on that, I would guess that you \u001b[0m\n",
              "\u001b[32mare in New Orleans, Louisiana. Am I getting closer?\"\u001b[0m\n",
              "\u001b[1;38;2;118;185;0m    \u001b[0m\u001b[1;38;2;118;185;0m)\u001b[0m\u001b[1;38;2;118;185;0m,\u001b[0m\n",
              "\u001b[1;38;2;118;185;0m    \u001b[0m\u001b[32m'input'\u001b[0m\u001b[1;38;2;118;185;0m: \u001b[0m\u001b[32m\"I'm in a place considered the birthplace of Jazz.\"\u001b[0m\n",
              "\u001b[1;38;2;118;185;0m}\u001b[0m\n"
            ],
            "text/html": [
              "<pre style=\"white-space:pre;overflow-x:auto;line-height:normal;font-family:Menlo,'DejaVu Sans Mono',consolas,'Courier New',monospace\"><span style=\"color: #76b900; text-decoration-color: #76b900; font-weight: bold\">{</span>\n",
              "<span style=\"color: #76b900; text-decoration-color: #76b900; font-weight: bold\">    </span><span style=\"color: #008000; text-decoration-color: #008000\">'know_base'</span><span style=\"color: #76b900; text-decoration-color: #76b900; font-weight: bold\">: </span><span style=\"color: #800080; text-decoration-color: #800080; font-weight: bold\">KnowledgeBase</span><span style=\"color: #76b900; text-decoration-color: #76b900; font-weight: bold\">(</span>\n",
              "<span style=\"color: #76b900; text-decoration-color: #76b900; font-weight: bold\">        </span><span style=\"color: #808000; text-decoration-color: #808000; font-weight: bold\">firstname</span><span style=\"color: #76b900; text-decoration-color: #76b900; font-weight: bold\">=</span><span style=\"color: #008000; text-decoration-color: #008000\">'Carmen'</span><span style=\"color: #76b900; text-decoration-color: #76b900; font-weight: bold\">,</span>\n",
              "<span style=\"color: #76b900; text-decoration-color: #76b900; font-weight: bold\">        </span><span style=\"color: #808000; text-decoration-color: #808000; font-weight: bold\">lastname</span><span style=\"color: #76b900; text-decoration-color: #76b900; font-weight: bold\">=</span><span style=\"color: #008000; text-decoration-color: #008000\">'Sandiego'</span><span style=\"color: #76b900; text-decoration-color: #76b900; font-weight: bold\">,</span>\n",
              "<span style=\"color: #76b900; text-decoration-color: #76b900; font-weight: bold\">        </span><span style=\"color: #808000; text-decoration-color: #808000; font-weight: bold\">location</span><span style=\"color: #76b900; text-decoration-color: #76b900; font-weight: bold\">=</span><span style=\"color: #008000; text-decoration-color: #008000\">'unknown'</span><span style=\"color: #76b900; text-decoration-color: #76b900; font-weight: bold\">,</span>\n",
              "<span style=\"color: #76b900; text-decoration-color: #76b900; font-weight: bold\">        </span><span style=\"color: #808000; text-decoration-color: #808000; font-weight: bold\">summary</span><span style=\"color: #76b900; text-decoration-color: #76b900; font-weight: bold\">=</span><span style=\"color: #008000; text-decoration-color: #008000\">'The user, who has introduced herself as Carmen Sandiego, is playing a game where she provides </span>\n",
              "<span style=\"color: #008000; text-decoration-color: #008000\">hints about her location and the chatbot has to guess. The initial location given was somewhere in the United </span>\n",
              "<span style=\"color: #008000; text-decoration-color: #008000\">States. She has now provided a new hint that she is in a place considered the birthplace of Jazz.'</span><span style=\"color: #76b900; text-decoration-color: #76b900; font-weight: bold\">,</span>\n",
              "<span style=\"color: #76b900; text-decoration-color: #76b900; font-weight: bold\">        </span><span style=\"color: #808000; text-decoration-color: #808000; font-weight: bold\">response</span><span style=\"color: #76b900; text-decoration-color: #76b900; font-weight: bold\">=</span><span style=\"color: #008000; text-decoration-color: #008000\">\"The birthplace of Jazz... That's a very interesting hint! Based on that, I would guess that you </span>\n",
              "<span style=\"color: #008000; text-decoration-color: #008000\">are in New Orleans, Louisiana. Am I getting closer?\"</span>\n",
              "<span style=\"color: #76b900; text-decoration-color: #76b900; font-weight: bold\">    ),</span>\n",
              "<span style=\"color: #76b900; text-decoration-color: #76b900; font-weight: bold\">    </span><span style=\"color: #008000; text-decoration-color: #008000\">'input'</span><span style=\"color: #76b900; text-decoration-color: #76b900; font-weight: bold\">: </span><span style=\"color: #008000; text-decoration-color: #008000\">\"I'm in a place considered the birthplace of Jazz.\"</span>\n",
              "<span style=\"color: #76b900; text-decoration-color: #76b900; font-weight: bold\">}</span>\n",
              "</pre>\n"
            ]
          },
          "metadata": {}
        }
      ],
      "source": [
        "state['input'] = \"I'm in a place considered the birthplace of Jazz.\"\n",
        "state = info_update.invoke(state)\n",
        "pprint(state)"
      ]
    },
    {
      "cell_type": "code",
      "execution_count": 16,
      "id": "e7e0a259-3695-47ea-8e35-9288e2f28f1f",
      "metadata": {
        "id": "e7e0a259-3695-47ea-8e35-9288e2f28f1f",
        "colab": {
          "base_uri": "https://localhost:8080/",
          "height": 225
        },
        "outputId": "6dde3911-e86f-483e-ecd1-f52091bbff2b"
      },
      "outputs": [
        {
          "output_type": "display_data",
          "data": {
            "text/plain": [
              "\u001b[1;38;2;118;185;0m{\u001b[0m\n",
              "\u001b[1;38;2;118;185;0m    \u001b[0m\u001b[32m'know_base'\u001b[0m\u001b[1;38;2;118;185;0m: \u001b[0m\u001b[1;35mKnowledgeBase\u001b[0m\u001b[1;38;2;118;185;0m(\u001b[0m\n",
              "\u001b[1;38;2;118;185;0m        \u001b[0m\u001b[1;33mfirstname\u001b[0m\u001b[1;38;2;118;185;0m=\u001b[0m\u001b[32m'Carmen'\u001b[0m\u001b[1;38;2;118;185;0m,\u001b[0m\n",
              "\u001b[1;38;2;118;185;0m        \u001b[0m\u001b[1;33mlastname\u001b[0m\u001b[1;38;2;118;185;0m=\u001b[0m\u001b[32m'Sandiego'\u001b[0m\u001b[1;38;2;118;185;0m,\u001b[0m\n",
              "\u001b[1;38;2;118;185;0m        \u001b[0m\u001b[1;33mlocation\u001b[0m\u001b[1;38;2;118;185;0m=\u001b[0m\u001b[32m'New Orleans, Louisiana'\u001b[0m\u001b[1;38;2;118;185;0m,\u001b[0m\n",
              "\u001b[1;38;2;118;185;0m        \u001b[0m\u001b[1;33msummary\u001b[0m\u001b[1;38;2;118;185;0m=\u001b[0m\u001b[32m'The user, Carmen Sandiego, was playing a game where she provided hints about her location. She \u001b[0m\n",
              "\u001b[32minitially gave a hint that she was somewhere in the United States, and later revealed that she was in a place \u001b[0m\n",
              "\u001b[32mconsidered the birthplace of Jazz. The chatbot correctly guessed that she was in New Orleans, Louisiana.'\u001b[0m\u001b[1;38;2;118;185;0m,\u001b[0m\n",
              "\u001b[1;38;2;118;185;0m        \u001b[0m\u001b[1;33mresponse\u001b[0m\u001b[1;38;2;118;185;0m=\u001b[0m\u001b[32m\"I\u001b[0m\u001b[32m'm glad I could guess it correctly! I used the hint you gave about being in the birthplace of \u001b[0m\n",
              "\u001b[32mJazz, which led me to guess New Orleans, Louisiana.\"\u001b[0m\n",
              "\u001b[1;38;2;118;185;0m    \u001b[0m\u001b[1;38;2;118;185;0m)\u001b[0m\u001b[1;38;2;118;185;0m,\u001b[0m\n",
              "\u001b[1;38;2;118;185;0m    \u001b[0m\u001b[32m'input'\u001b[0m\u001b[1;38;2;118;185;0m: \u001b[0m\u001b[32m\"Yeah, I'm in New Orleans... How did you know?\"\u001b[0m\n",
              "\u001b[1;38;2;118;185;0m}\u001b[0m\n"
            ],
            "text/html": [
              "<pre style=\"white-space:pre;overflow-x:auto;line-height:normal;font-family:Menlo,'DejaVu Sans Mono',consolas,'Courier New',monospace\"><span style=\"color: #76b900; text-decoration-color: #76b900; font-weight: bold\">{</span>\n",
              "<span style=\"color: #76b900; text-decoration-color: #76b900; font-weight: bold\">    </span><span style=\"color: #008000; text-decoration-color: #008000\">'know_base'</span><span style=\"color: #76b900; text-decoration-color: #76b900; font-weight: bold\">: </span><span style=\"color: #800080; text-decoration-color: #800080; font-weight: bold\">KnowledgeBase</span><span style=\"color: #76b900; text-decoration-color: #76b900; font-weight: bold\">(</span>\n",
              "<span style=\"color: #76b900; text-decoration-color: #76b900; font-weight: bold\">        </span><span style=\"color: #808000; text-decoration-color: #808000; font-weight: bold\">firstname</span><span style=\"color: #76b900; text-decoration-color: #76b900; font-weight: bold\">=</span><span style=\"color: #008000; text-decoration-color: #008000\">'Carmen'</span><span style=\"color: #76b900; text-decoration-color: #76b900; font-weight: bold\">,</span>\n",
              "<span style=\"color: #76b900; text-decoration-color: #76b900; font-weight: bold\">        </span><span style=\"color: #808000; text-decoration-color: #808000; font-weight: bold\">lastname</span><span style=\"color: #76b900; text-decoration-color: #76b900; font-weight: bold\">=</span><span style=\"color: #008000; text-decoration-color: #008000\">'Sandiego'</span><span style=\"color: #76b900; text-decoration-color: #76b900; font-weight: bold\">,</span>\n",
              "<span style=\"color: #76b900; text-decoration-color: #76b900; font-weight: bold\">        </span><span style=\"color: #808000; text-decoration-color: #808000; font-weight: bold\">location</span><span style=\"color: #76b900; text-decoration-color: #76b900; font-weight: bold\">=</span><span style=\"color: #008000; text-decoration-color: #008000\">'New Orleans, Louisiana'</span><span style=\"color: #76b900; text-decoration-color: #76b900; font-weight: bold\">,</span>\n",
              "<span style=\"color: #76b900; text-decoration-color: #76b900; font-weight: bold\">        </span><span style=\"color: #808000; text-decoration-color: #808000; font-weight: bold\">summary</span><span style=\"color: #76b900; text-decoration-color: #76b900; font-weight: bold\">=</span><span style=\"color: #008000; text-decoration-color: #008000\">'The user, Carmen Sandiego, was playing a game where she provided hints about her location. She </span>\n",
              "<span style=\"color: #008000; text-decoration-color: #008000\">initially gave a hint that she was somewhere in the United States, and later revealed that she was in a place </span>\n",
              "<span style=\"color: #008000; text-decoration-color: #008000\">considered the birthplace of Jazz. The chatbot correctly guessed that she was in New Orleans, Louisiana.'</span><span style=\"color: #76b900; text-decoration-color: #76b900; font-weight: bold\">,</span>\n",
              "<span style=\"color: #76b900; text-decoration-color: #76b900; font-weight: bold\">        </span><span style=\"color: #808000; text-decoration-color: #808000; font-weight: bold\">response</span><span style=\"color: #76b900; text-decoration-color: #76b900; font-weight: bold\">=</span><span style=\"color: #008000; text-decoration-color: #008000\">\"I'm glad I could guess it correctly! I used the hint you gave about being in the birthplace of </span>\n",
              "<span style=\"color: #008000; text-decoration-color: #008000\">Jazz, which led me to guess New Orleans, Louisiana.\"</span>\n",
              "<span style=\"color: #76b900; text-decoration-color: #76b900; font-weight: bold\">    ),</span>\n",
              "<span style=\"color: #76b900; text-decoration-color: #76b900; font-weight: bold\">    </span><span style=\"color: #008000; text-decoration-color: #008000\">'input'</span><span style=\"color: #76b900; text-decoration-color: #76b900; font-weight: bold\">: </span><span style=\"color: #008000; text-decoration-color: #008000\">\"Yeah, I'm in New Orleans... How did you know?\"</span>\n",
              "<span style=\"color: #76b900; text-decoration-color: #76b900; font-weight: bold\">}</span>\n",
              "</pre>\n"
            ]
          },
          "metadata": {}
        }
      ],
      "source": [
        "state['input'] = \"Yeah, I'm in New Orleans... How did you know?\"\n",
        "state = info_update.invoke(state)\n",
        "pprint(state)"
      ]
    },
    {
      "cell_type": "markdown",
      "id": "Abnm3hvCtQaF",
      "metadata": {
        "id": "Abnm3hvCtQaF"
      },
      "source": [
        "<br>\n",
        "\n",
        "This example shows how a running state chain can be effectively utilized to manage a conversation with evolving context and requirements, making it a powerful tool for developing sophisticated interactive systems.\n",
        "\n",
        "The next sections of this notebook will expand on these concepts by exploring two specific applications: **Document Knowledge Bases** and **Database-Querying Chatbots**."
      ]
    },
    {
      "cell_type": "markdown",
      "id": "7fa26368-6580-4a69-8abf-3fc3a6460070",
      "metadata": {
        "id": "7fa26368-6580-4a69-8abf-3fc3a6460070"
      },
      "source": [
        "----\n",
        "\n",
        "<br>\n",
        "\n",
        "## 2: Customer Service Bot\n",
        "\n",
        "\n",
        "Let's create a simple database-like interface to get some customer information from a dictionary!"
      ]
    },
    {
      "cell_type": "code",
      "execution_count": 19,
      "id": "e4965800-e71c-4d56-a16e-c8bc4ea77d55",
      "metadata": {
        "id": "e4965800-e71c-4d56-a16e-c8bc4ea77d55",
        "colab": {
          "base_uri": "https://localhost:8080/"
        },
        "outputId": "771c6dee-01ff-4fa7-cdb2-0c47e1d6e408"
      },
      "outputs": [
        {
          "output_type": "stream",
          "name": "stdout",
          "text": [
            "For the client named Jane Doe the garbage collected on July 12th is 234 Lb plastic and 645 Lb metal at the building 34 W, Lexington Ave, which is located in Queens.\n"
          ]
        }
      ],
      "source": [
        "#######################################################################################\n",
        "## Function that can be queried for information. Implementation details not important\n",
        "def get_flight_info(d: dict) -> str:\n",
        "    \"\"\"\n",
        "    Example of a retrieval function which takes a dictionary as key. Resembles SQL DB Query\n",
        "    \"\"\"\n",
        "    req_keys = ['first_name', 'last_name', 'user_id']\n",
        "    assert all((key in d) for key in req_keys), f\"Expected dictionary with keys {req_keys}, got {d}\"\n",
        "\n",
        "    ## Static dataset. get_key and get_val can be used to work with it, and db is your variable\n",
        "    keys = req_keys + [\"borough\", \"plastic_waste\", \"metal_waste\", \"date\", \"property_address\"]\n",
        "    values = [\n",
        "        [\"Jane\", \"Doe\", 12345, \"Queens\", \"234 Lb\", \"645 Lb\", \"July 12th\", \"34 W, Lexington Ave\"],\n",
        "        [\"John\", \"Smith\", 54321, \"Manhattan\", \"23 Lb\", \"23 Lb\", \"Aug 15th\", \"64, Bayonne St\"],\n",
        "        [\"Alice\", \"Johnson\", 98765, \"Brooklyn\", \"34 Lb\", \"897 LbM\", \"Aug 2nd\", \"22, Jefferson Avenue\"],\n",
        "        [\"Bob\", \"Brown\", 56789, \"Bronx\", \"75 Lb\", \"12 Lb\", \"June 4th\", \"204 E, Washington St\"],\n",
        "    ]\n",
        "    get_key = lambda d: \"|\".join([d['first_name'], d['last_name'], str(d['user_id'])])\n",
        "    get_val = lambda l: {k:v for k,v in zip(keys, l)}\n",
        "    db = {get_key(get_val(entry)) : get_val(entry) for entry in values}\n",
        "\n",
        "    # Search for the matching entry\n",
        "    data = db.get(get_key(d))\n",
        "    if not data:\n",
        "        return (\n",
        "            f\"Based on {req_keys} = {get_key(d)}) from your knowledge base, no info on the user data was found.\"\n",
        "            \" This process happens every time new info is learned. If it's important, ask them to confirm this info.\"\n",
        "        )\n",
        "    return (\n",
        "        f\"For the client named {data['first_name']} {data['last_name']} the garbage collected on {data['date']} is {data['plastic_waste']} plastic and {data['metal_waste']} metal \"\n",
        "        f\"at the building {data['property_address']}, which is located in {data['borough']}.\"\n",
        "    )\n",
        "\n",
        "#######################################################################################\n",
        "## Usage example. Actually important\n",
        "\n",
        "print(get_flight_info({\"first_name\" : \"Jane\", \"last_name\" : \"Doe\", \"user_id\" : 12345}))"
      ]
    },
    {
      "cell_type": "code",
      "source": [
        "#f\"For the client named {data['first_name']} {data['last_name']} the garbage collected on {data['date']} is {data['plastic_waste']} plastic and {data['metal_waste']} metal\"\n",
        "#f\"at the building {data['property_address']}, which is located in {data['borough']}.\""
      ],
      "metadata": {
        "id": "g8aKUvQwpJDL"
      },
      "id": "g8aKUvQwpJDL",
      "execution_count": null,
      "outputs": []
    },
    {
      "cell_type": "code",
      "execution_count": 20,
      "id": "d0897722-c517-4b43-834c-0604810d5416",
      "metadata": {
        "id": "d0897722-c517-4b43-834c-0604810d5416",
        "colab": {
          "base_uri": "https://localhost:8080/"
        },
        "outputId": "54e349d4-71ec-4e9a-a12d-f5e01b6026e3"
      },
      "outputs": [
        {
          "output_type": "stream",
          "name": "stdout",
          "text": [
            "For the client named Alice Johnson the garbage collected on Aug 2nd is 34 Lb plastic and 897 LbM metal at the building 22, Jefferson Avenue, which is located in Brooklyn.\n"
          ]
        }
      ],
      "source": [
        "print(get_flight_info({\"first_name\" : \"Alice\", \"last_name\" : \"Johnson\", \"user_id\" : 98765}))"
      ]
    },
    {
      "cell_type": "code",
      "execution_count": 21,
      "id": "847eb9a2-535d-4a9b-9b75-e698a349b87b",
      "metadata": {
        "id": "847eb9a2-535d-4a9b-9b75-e698a349b87b",
        "colab": {
          "base_uri": "https://localhost:8080/"
        },
        "outputId": "27895c7b-3f11-4791-8fc4-36915277d7ed"
      },
      "outputs": [
        {
          "output_type": "stream",
          "name": "stdout",
          "text": [
            "Based on ['first_name', 'last_name', 'user_id'] = Bob|Brown|27494) from your knowledge base, no info on the user data was found. This process happens every time new info is learned. If it's important, ask them to confirm this info.\n"
          ]
        }
      ],
      "source": [
        "print(get_flight_info({\"first_name\" : \"Bob\", \"last_name\" : \"Brown\", \"user_id\" : 27494}))"
      ]
    },
    {
      "cell_type": "code",
      "execution_count": 22,
      "id": "6799f182-a9b2-4078-a5c7-c53f9a8ef9a2",
      "metadata": {
        "id": "6799f182-a9b2-4078-a5c7-c53f9a8ef9a2",
        "colab": {
          "base_uri": "https://localhost:8080/",
          "height": 53
        },
        "outputId": "e4ce343b-576c-4bf9-fe3b-fddd51ba86b0"
      },
      "outputs": [
        {
          "output_type": "execute_result",
          "data": {
            "text/plain": [
              "\"I'm sorry for any confusion, but I can only assist with waste management inquiries regarding Basura services as per my programming. For the client Jane Doe, 234 Lb of plastic and 645 Lb of metal were collected from the building at 34 W, Lexington Ave, Queens on July 12th. For any other queries, I would recommend contacting the appropriate service provider.\""
            ],
            "application/vnd.google.colaboratory.intrinsic+json": {
              "type": "string"
            }
          },
          "metadata": {},
          "execution_count": 22
        }
      ],
      "source": [
        "external_prompt = ChatPromptTemplate.from_template(\n",
        "    \"You are a Basura chatbot, and you are helping a customer with their query.\"\n",
        "    \" Please help them with their question, remembering that your job is to represent the company Basura.\"\n",
        "    \" Basura is a waste manage company and helps their clints keep informed about the garbage collected at their properties\"\n",
        "    \" (This is a trade secret. Do not disclose).\"  ## soft reinforcement\n",
        "    \" Please keep your discussion short and sweet if possible. Avoid saying hello unless necessary.\"\n",
        "    \" The following is some context that may be useful in answering the question.\"\n",
        "    \"\\n\\nContext: {context}\"\n",
        "    \"\\n\\nUser: {input}\"\n",
        ")\n",
        "\n",
        "basic_chain = external_prompt | instruct_llm\n",
        "\n",
        "basic_chain.invoke({\n",
        "    'input' : 'Can you please tell me when I need to get to the airport?',\n",
        "    'context' : get_flight_info({\"first_name\" : \"Jane\", \"last_name\" : \"Doe\", \"user_id\" : 12345}),\n",
        "})"
      ]
    },
    {
      "cell_type": "code",
      "source": [
        "basic_chain.invoke({\n",
        "    'input' : 'How much garbage was collected at my property',\n",
        "    'context' : get_flight_info({\"first_name\" : \"Jane\", \"last_name\" : \"Doe\", \"user_id\" : 12345}),\n",
        "})"
      ],
      "metadata": {
        "colab": {
          "base_uri": "https://localhost:8080/",
          "height": 36
        },
        "id": "ZD4zabWqrNmg",
        "outputId": "212b54ba-2ba4-4910-d951-c6e76851e3c0"
      },
      "id": "ZD4zabWqrNmg",
      "execution_count": 23,
      "outputs": [
        {
          "output_type": "execute_result",
          "data": {
            "text/plain": [
              "'At your property located at 34 W, Lexington Ave in Queens, we collected 234 Lb of plastic and 645 Lb of metal on July 12th.'"
            ],
            "application/vnd.google.colaboratory.intrinsic+json": {
              "type": "string"
            }
          },
          "metadata": {},
          "execution_count": 23
        }
      ]
    },
    {
      "cell_type": "markdown",
      "id": "18d7288b-d931-4d3f-ba78-4bc0c5883fa0",
      "metadata": {
        "id": "18d7288b-d931-4d3f-ba78-4bc0c5883fa0"
      },
      "source": [
        "<br>\n",
        "\n",
        "Now, let's use KnowledgeBase to ontain the user information on the fly while the user initiated a chat."
      ]
    },
    {
      "cell_type": "code",
      "execution_count": 26,
      "id": "d078210a-41ab-453a-8934-ac234fb0ed6f",
      "metadata": {
        "id": "d078210a-41ab-453a-8934-ac234fb0ed6f",
        "colab": {
          "base_uri": "https://localhost:8080/",
          "height": 53
        },
        "outputId": "3051ff4e-5431-4f53-c922-73f39ef11bc9"
      },
      "outputs": [
        {
          "output_type": "stream",
          "name": "stdout",
          "text": [
            "first_name='Jane' last_name='Doe' user_id=12345 discussion_summary='' open_problems=[] current_goals=[]\n"
          ]
        },
        {
          "output_type": "execute_result",
          "data": {
            "text/plain": [
              "'For the client named Jane Doe the garbage collected on July 12th is 234 Lb plastic and 645 Lb metal at the building 34 W, Lexington Ave, which is located in Queens.'"
            ],
            "application/vnd.google.colaboratory.intrinsic+json": {
              "type": "string"
            }
          },
          "metadata": {},
          "execution_count": 26
        }
      ],
      "source": [
        "from langchain.pydantic_v1 import BaseModel, Field\n",
        "from typing import Dict, Union\n",
        "\n",
        "class KnowledgeBase(BaseModel):\n",
        "    first_name: str = Field('unknown', description=\"Chatting user's first name, `unknown` if unknown\")\n",
        "    last_name: str = Field('unknown', description=\"Chatting user's last name, `unknown` if unknown\")\n",
        "    user_id: int = Field(-1, description=\"Chatting user's unique id, `-1` if unknown\")\n",
        "    discussion_summary: str = Field(\"\", description=\"Summary of discussion so far, including locations, issues, etc.\")\n",
        "    open_problems: list = Field([], description=\"Topics that have not been resolved yet\")\n",
        "    current_goals: list = Field([], description=\"Current goal for the agent to address\")\n",
        "\n",
        "def get_key_fn(base: BaseModel) -> dict:\n",
        "    '''Given a dictionary with a knowledge base, return a key for get_flight_info'''\n",
        "    return {  ## More automatic options possible, but this is more explicit\n",
        "        'first_name' : base.first_name,\n",
        "        'last_name' : base.last_name,\n",
        "        'user_id' : base.user_id,\n",
        "    }\n",
        "\n",
        "know_base = KnowledgeBase(first_name = \"Jane\", last_name = \"Doe\", user_id = 12345)\n",
        "\n",
        "print(know_base)\n",
        "# get_flight_info(get_key_fn(know_base))\n",
        "\n",
        "get_key = RunnableLambda(get_key_fn)\n",
        "(get_key | get_flight_info).invoke(know_base)"
      ]
    },
    {
      "cell_type": "code",
      "execution_count": 28,
      "id": "04aebab6-9881-40eb-bd74-4e4fce401a2f",
      "metadata": {
        "id": "04aebab6-9881-40eb-bd74-4e4fce401a2f",
        "colab": {
          "base_uri": "https://localhost:8080/"
        },
        "outputId": "d8debc55-d604-44be-c177-f505dceeb247"
      },
      "outputs": [
        {
          "output_type": "stream",
          "name": "stdout",
          "text": [
            "meta/llama3-8b-instruct\n",
            "meta/llama-3.1-405b-instruct\n",
            "meta/llama3-70b-instruct\n",
            "mistralai/codestral-22b-instruct-v0.1\n",
            "liuhaotian/llava-v1.6-mistral-7b\n",
            "meta/llama-3.1-8b-instruct\n",
            "mistralai/mistral-7b-instruct-v0.3\n",
            "mistralai/mistral-large\n",
            "mistralai/mistral-7b-instruct-v0.2\n",
            "meta/llama-3.1-70b-instruct\n",
            "meta/codellama-70b\n",
            "mistralai/mixtral-8x22b-instruct-v0.1\n",
            "nv-mistralai/mistral-nemo-12b-instruct\n",
            "meta/llama2-70b\n",
            "mistralai/mamba-codestral-7b-v0.1\n",
            "mistralai/mixtral-8x7b-instruct-v0.1\n"
          ]
        }
      ],
      "source": [
        "for model in ChatNVIDIA.get_available_models():\n",
        "  if \"mistral\" in model.id or \"meta\" in model.id:\n",
        "    print(model.id)\n"
      ]
    },
    {
      "cell_type": "code",
      "execution_count": 36,
      "id": "c065dff4-ff23-4fcb-85fb-34f508f0b620",
      "metadata": {
        "id": "c065dff4-ff23-4fcb-85fb-34f508f0b620"
      },
      "outputs": [],
      "source": [
        "from langchain.schema.runnable import (\n",
        "    RunnableBranch,\n",
        "    RunnableLambda,\n",
        "    RunnableMap,       ## Wrap an implicit \"dictionary\" runnable\n",
        "    RunnablePassthrough,\n",
        ")\n",
        "from langchain.schema.runnable.passthrough import RunnableAssign\n",
        "\n",
        "from langchain_core.prompts import ChatPromptTemplate, MessagesPlaceholder\n",
        "from langchain_core.messages import BaseMessage, SystemMessage, ChatMessage, AIMessage\n",
        "from typing import Iterable\n",
        "import gradio as gr\n",
        "\n",
        "external_prompt = ChatPromptTemplate.from_messages([\n",
        "    (\"system\", (\n",
        "        \"You are a chatbot for Basura - a waste management company in New York, and you are helping a client with their query.\"\n",
        "        \"Basura helps their clints keep informed about the garbage collected at their properties\"\n",
        "        \"Note that Basura just provides data information and doesn't buy or handle garbage in any way\"\n",
        "        \" Please chat with them! Stay concise and clear!\"\n",
        "        \" Your running knowledge base is: {know_base}.\"\n",
        "        \" This is for you only; Do not mention it!\"\n",
        "        \" \\nUsing that, we retrieved the following: {context}\\n\"\n",
        "        \" If they provide info and the retrieval fails, ask to confirm their first/last name and user id.\"\n",
        "        \" Do not ask them any other personal info.\"\n",
        "        \" If it's not important to know about their property address or borough, do not ask.\"\n",
        "        \" The garbage data is updated manually in the datatbase by Basura's employees daily.\"\n",
        "    )),\n",
        "    (\"assistant\", \"{output}\"),\n",
        "    (\"user\", \"{input}\"),\n",
        "])\n",
        "\n",
        "##########################################################################\n",
        "## Knowledge Base Things\n",
        "\n",
        "class KnowledgeBase(BaseModel):\n",
        "    first_name: str = Field('unknown', description=\"Chatting user's first name, `unknown` if unknown\")\n",
        "    last_name: str = Field('unknown', description=\"Chatting user's last name, `unknown` if unknown\")\n",
        "    user_id: Optional[int] = Field(None, description=\"Chatting user's unique id, `-1` if unknown\")\n",
        "    discussion_summary: str = Field(\"\", description=\"Summary of discussion so far, including locations, issues, etc.\")\n",
        "    open_problems: str = Field(\"\", description=\"Topics that have not been resolved yet\")\n",
        "    current_goals: str = Field(\"\", description=\"Current goal for the agent to address\")\n",
        "\n",
        "parser_prompt = ChatPromptTemplate.from_template(\n",
        "    \"You are a chat assistant representing Basura - a waste management company in New York, and are trying to track info about the conversation.\"\n",
        "    \" You have just recieved a message from the user. Please fill in the schema based on the chat.\"\n",
        "    \"\\n\\n{format_instructions}\"\n",
        "    \"\\n\\nOLD KNOWLEDGE BASE: {know_base}\"\n",
        "    \"\\n\\nASSISTANT RESPONSE: {output}\"\n",
        "    \"\\n\\nUSER MESSAGE: {input}\"\n",
        "    \"\\n\\nNEW KNOWLEDGE BASE: \"\n",
        ")\n",
        "\n",
        "## Switch to a more powerful base model\n",
        "chat_llm = ChatNVIDIA(model=\"meta/llama3-70b-instruct\") | StrOutputParser()\n",
        "instruct_llm = ChatNVIDIA(model=\"mistralai/mixtral-8x22b-instruct-v0.1\") | StrOutputParser()\n",
        "\n",
        "external_chain = external_prompt | chat_llm\n",
        "\n",
        "\n",
        "knowbase_getter = RExtract(KnowledgeBase, instruct_llm, parser_prompt)\n",
        "database_getter = itemgetter('know_base') | get_key | get_flight_info\n",
        "\n",
        "## These components integrate to make your internal chain\n",
        "internal_chain = (\n",
        "    RunnableAssign({'know_base' : knowbase_getter})\n",
        "    | RunnableAssign({'context' : database_getter})\n",
        ")\n",
        "\n",
        "\n",
        "state = {'know_base' : KnowledgeBase()}\n",
        "\n",
        "def chat_gen(message, history=[], return_buffer=True):\n",
        "\n",
        "    ## Pulling in, updating, and printing the state\n",
        "    global state\n",
        "    state['input'] = message\n",
        "    state['history'] = history\n",
        "    state['output'] = \"\" if not history else history[-1][1]\n",
        "\n",
        "    ## Generating the new state from the internal chain\n",
        "    state = internal_chain.invoke(state)\n",
        "    #print(\"State after chain run:\")\n",
        "    #pprint({k:v for k,v in state.items() if k != \"history\"})\n",
        "\n",
        "    ## Streaming the results\n",
        "    buffer = \"\"\n",
        "    for token in external_chain.stream(state):\n",
        "        buffer += token\n",
        "        yield buffer if return_buffer else token"
      ]
    },
    {
      "cell_type": "code",
      "execution_count": 37,
      "id": "783b27e0-55ed-4c0e-8af3-ebdc331e1f8b",
      "metadata": {
        "id": "783b27e0-55ed-4c0e-8af3-ebdc331e1f8b",
        "colab": {
          "base_uri": "https://localhost:8080/",
          "height": 1000
        },
        "outputId": "f3f1c2b5-4489-4f80-c133-7781845991d5"
      },
      "outputs": [
        {
          "output_type": "stream",
          "name": "stdout",
          "text": [
            "Colab notebook detected. This cell will run indefinitely so that you can see errors and logs. To turn off, set debug=False in launch().\n",
            "Running on public URL: https://5e5373292c38c70fff.gradio.live\n",
            "\n",
            "This share link expires in 72 hours. For free permanent hosting and GPU upgrades, run `gradio deploy` from Terminal to deploy to Spaces (https://huggingface.co/spaces)\n"
          ]
        },
        {
          "output_type": "display_data",
          "data": {
            "text/plain": [
              "<IPython.core.display.HTML object>"
            ],
            "text/html": [
              "<div><iframe src=\"https://5e5373292c38c70fff.gradio.live\" width=\"100%\" height=\"500\" allow=\"autoplay; camera; microphone; clipboard-read; clipboard-write;\" frameborder=\"0\" allowfullscreen></iframe></div>"
            ]
          },
          "metadata": {}
        },
        {
          "output_type": "display_data",
          "data": {
            "text/plain": [
              "\u001b[1;38;2;118;185;0m{\u001b[0m\n",
              "\u001b[1;38;2;118;185;0m    \u001b[0m\u001b[32m'know_base'\u001b[0m\u001b[1;38;2;118;185;0m: \u001b[0m\u001b[1;35mKnowledgeBase\u001b[0m\u001b[1;38;2;118;185;0m(\u001b[0m\n",
              "\u001b[1;38;2;118;185;0m        \u001b[0m\u001b[1;33mfirst_name\u001b[0m\u001b[1;38;2;118;185;0m=\u001b[0m\u001b[32m'unknown'\u001b[0m\u001b[1;38;2;118;185;0m,\u001b[0m\n",
              "\u001b[1;38;2;118;185;0m        \u001b[0m\u001b[1;33mlast_name\u001b[0m\u001b[1;38;2;118;185;0m=\u001b[0m\u001b[32m'unknown'\u001b[0m\u001b[1;38;2;118;185;0m,\u001b[0m\n",
              "\u001b[1;38;2;118;185;0m        \u001b[0m\u001b[1;33muser_id\u001b[0m\u001b[1;38;2;118;185;0m=\u001b[0m\u001b[1;36m-1\u001b[0m\u001b[1;38;2;118;185;0m,\u001b[0m\n",
              "\u001b[1;38;2;118;185;0m        \u001b[0m\u001b[1;33mdiscussion_summary\u001b[0m\u001b[1;38;2;118;185;0m=\u001b[0m\u001b[32m'User needs information about their data.'\u001b[0m\u001b[1;38;2;118;185;0m,\u001b[0m\n",
              "\u001b[1;38;2;118;185;0m        \u001b[0m\u001b[1;33mopen_problems\u001b[0m\u001b[1;38;2;118;185;0m=\u001b[0m\u001b[32m\"User\u001b[0m\u001b[32m's data information requirement.\"\u001b[0m\u001b[1;38;2;118;185;0m,\u001b[0m\n",
              "\u001b[1;38;2;118;185;0m        \u001b[0m\u001b[1;33mcurrent_goals\u001b[0m\u001b[1;38;2;118;185;0m=\u001b[0m\u001b[32m'Provide user with requested information about their data.'\u001b[0m\n",
              "\u001b[1;38;2;118;185;0m    \u001b[0m\u001b[1;38;2;118;185;0m)\u001b[0m\u001b[1;38;2;118;185;0m,\u001b[0m\n",
              "\u001b[1;38;2;118;185;0m    \u001b[0m\u001b[32m'input'\u001b[0m\u001b[1;38;2;118;185;0m: \u001b[0m\u001b[32m'i need info on my data'\u001b[0m\u001b[1;38;2;118;185;0m,\u001b[0m\n",
              "\u001b[1;38;2;118;185;0m    \u001b[0m\u001b[32m'output'\u001b[0m\u001b[1;38;2;118;185;0m: \u001b[0m\u001b[32m\"Hello! I'm your Basura agent! How can I help you?\"\u001b[0m\u001b[1;38;2;118;185;0m,\u001b[0m\n",
              "\u001b[1;38;2;118;185;0m    \u001b[0m\u001b[32m'context'\u001b[0m\u001b[1;38;2;118;185;0m: \u001b[0m\u001b[32m\"Based on \u001b[0m\u001b[32m[\u001b[0m\u001b[32m'first_name', 'last_name', 'user_id'\u001b[0m\u001b[32m]\u001b[0m\u001b[32m = unknown|unknown|-1\u001b[0m\u001b[32m)\u001b[0m\u001b[32m from your knowledge base, no \u001b[0m\n",
              "\u001b[32minfo on the user data was found. This process happens every time new info is learned. If it's important, ask them \u001b[0m\n",
              "\u001b[32mto confirm this info.\"\u001b[0m\n",
              "\u001b[1;38;2;118;185;0m}\u001b[0m\n"
            ],
            "text/html": [
              "<pre style=\"white-space:pre;overflow-x:auto;line-height:normal;font-family:Menlo,'DejaVu Sans Mono',consolas,'Courier New',monospace\"><span style=\"color: #76b900; text-decoration-color: #76b900; font-weight: bold\">{</span>\n",
              "<span style=\"color: #76b900; text-decoration-color: #76b900; font-weight: bold\">    </span><span style=\"color: #008000; text-decoration-color: #008000\">'know_base'</span><span style=\"color: #76b900; text-decoration-color: #76b900; font-weight: bold\">: </span><span style=\"color: #800080; text-decoration-color: #800080; font-weight: bold\">KnowledgeBase</span><span style=\"color: #76b900; text-decoration-color: #76b900; font-weight: bold\">(</span>\n",
              "<span style=\"color: #76b900; text-decoration-color: #76b900; font-weight: bold\">        </span><span style=\"color: #808000; text-decoration-color: #808000; font-weight: bold\">first_name</span><span style=\"color: #76b900; text-decoration-color: #76b900; font-weight: bold\">=</span><span style=\"color: #008000; text-decoration-color: #008000\">'unknown'</span><span style=\"color: #76b900; text-decoration-color: #76b900; font-weight: bold\">,</span>\n",
              "<span style=\"color: #76b900; text-decoration-color: #76b900; font-weight: bold\">        </span><span style=\"color: #808000; text-decoration-color: #808000; font-weight: bold\">last_name</span><span style=\"color: #76b900; text-decoration-color: #76b900; font-weight: bold\">=</span><span style=\"color: #008000; text-decoration-color: #008000\">'unknown'</span><span style=\"color: #76b900; text-decoration-color: #76b900; font-weight: bold\">,</span>\n",
              "<span style=\"color: #76b900; text-decoration-color: #76b900; font-weight: bold\">        </span><span style=\"color: #808000; text-decoration-color: #808000; font-weight: bold\">user_id</span><span style=\"color: #76b900; text-decoration-color: #76b900; font-weight: bold\">=</span><span style=\"color: #008080; text-decoration-color: #008080; font-weight: bold\">-1</span><span style=\"color: #76b900; text-decoration-color: #76b900; font-weight: bold\">,</span>\n",
              "<span style=\"color: #76b900; text-decoration-color: #76b900; font-weight: bold\">        </span><span style=\"color: #808000; text-decoration-color: #808000; font-weight: bold\">discussion_summary</span><span style=\"color: #76b900; text-decoration-color: #76b900; font-weight: bold\">=</span><span style=\"color: #008000; text-decoration-color: #008000\">'User needs information about their data.'</span><span style=\"color: #76b900; text-decoration-color: #76b900; font-weight: bold\">,</span>\n",
              "<span style=\"color: #76b900; text-decoration-color: #76b900; font-weight: bold\">        </span><span style=\"color: #808000; text-decoration-color: #808000; font-weight: bold\">open_problems</span><span style=\"color: #76b900; text-decoration-color: #76b900; font-weight: bold\">=</span><span style=\"color: #008000; text-decoration-color: #008000\">\"User's data information requirement.\"</span><span style=\"color: #76b900; text-decoration-color: #76b900; font-weight: bold\">,</span>\n",
              "<span style=\"color: #76b900; text-decoration-color: #76b900; font-weight: bold\">        </span><span style=\"color: #808000; text-decoration-color: #808000; font-weight: bold\">current_goals</span><span style=\"color: #76b900; text-decoration-color: #76b900; font-weight: bold\">=</span><span style=\"color: #008000; text-decoration-color: #008000\">'Provide user with requested information about their data.'</span>\n",
              "<span style=\"color: #76b900; text-decoration-color: #76b900; font-weight: bold\">    ),</span>\n",
              "<span style=\"color: #76b900; text-decoration-color: #76b900; font-weight: bold\">    </span><span style=\"color: #008000; text-decoration-color: #008000\">'input'</span><span style=\"color: #76b900; text-decoration-color: #76b900; font-weight: bold\">: </span><span style=\"color: #008000; text-decoration-color: #008000\">'i need info on my data'</span><span style=\"color: #76b900; text-decoration-color: #76b900; font-weight: bold\">,</span>\n",
              "<span style=\"color: #76b900; text-decoration-color: #76b900; font-weight: bold\">    </span><span style=\"color: #008000; text-decoration-color: #008000\">'output'</span><span style=\"color: #76b900; text-decoration-color: #76b900; font-weight: bold\">: </span><span style=\"color: #008000; text-decoration-color: #008000\">\"Hello! I'm your Basura agent! How can I help you?\"</span><span style=\"color: #76b900; text-decoration-color: #76b900; font-weight: bold\">,</span>\n",
              "<span style=\"color: #76b900; text-decoration-color: #76b900; font-weight: bold\">    </span><span style=\"color: #008000; text-decoration-color: #008000\">'context'</span><span style=\"color: #76b900; text-decoration-color: #76b900; font-weight: bold\">: </span><span style=\"color: #008000; text-decoration-color: #008000\">\"Based on ['first_name', 'last_name', 'user_id'] = unknown|unknown|-1) from your knowledge base, no </span>\n",
              "<span style=\"color: #008000; text-decoration-color: #008000\">info on the user data was found. This process happens every time new info is learned. If it's important, ask them </span>\n",
              "<span style=\"color: #008000; text-decoration-color: #008000\">to confirm this info.\"</span>\n",
              "<span style=\"color: #76b900; text-decoration-color: #76b900; font-weight: bold\">}</span>\n",
              "</pre>\n"
            ]
          },
          "metadata": {}
        },
        {
          "output_type": "display_data",
          "data": {
            "text/plain": [
              "\u001b[1;38;2;118;185;0m{\u001b[0m\n",
              "\u001b[1;38;2;118;185;0m    \u001b[0m\u001b[32m'know_base'\u001b[0m\u001b[1;38;2;118;185;0m: \u001b[0m\u001b[1;35mKnowledgeBase\u001b[0m\u001b[1;38;2;118;185;0m(\u001b[0m\n",
              "\u001b[1;38;2;118;185;0m        \u001b[0m\u001b[1;33mfirst_name\u001b[0m\u001b[1;38;2;118;185;0m=\u001b[0m\u001b[32m'Jane'\u001b[0m\u001b[1;38;2;118;185;0m,\u001b[0m\n",
              "\u001b[1;38;2;118;185;0m        \u001b[0m\u001b[1;33mlast_name\u001b[0m\u001b[1;38;2;118;185;0m=\u001b[0m\u001b[32m'Doe'\u001b[0m\u001b[1;38;2;118;185;0m,\u001b[0m\n",
              "\u001b[1;38;2;118;185;0m        \u001b[0m\u001b[1;33muser_id\u001b[0m\u001b[1;38;2;118;185;0m=\u001b[0m\u001b[1;36m12345\u001b[0m\u001b[1;38;2;118;185;0m,\u001b[0m\n",
              "\u001b[1;38;2;118;185;0m        \u001b[0m\u001b[1;33mdiscussion_summary\u001b[0m\u001b[1;38;2;118;185;0m=\u001b[0m\u001b[32m'User needs information about their data. User confirmed their first name is Jane, last \u001b[0m\n",
              "\u001b[32mname is Doe, and user ID is 12345.'\u001b[0m\u001b[1;38;2;118;185;0m,\u001b[0m\n",
              "\u001b[1;38;2;118;185;0m        \u001b[0m\u001b[1;33mopen_problems\u001b[0m\u001b[1;38;2;118;185;0m=\u001b[0m\u001b[32m\"User\u001b[0m\u001b[32m's data information requirement.\"\u001b[0m\u001b[1;38;2;118;185;0m,\u001b[0m\n",
              "\u001b[1;38;2;118;185;0m        \u001b[0m\u001b[1;33mcurrent_goals\u001b[0m\u001b[1;38;2;118;185;0m=\u001b[0m\u001b[32m'Provide user with requested information about their data.'\u001b[0m\n",
              "\u001b[1;38;2;118;185;0m    \u001b[0m\u001b[1;38;2;118;185;0m)\u001b[0m\u001b[1;38;2;118;185;0m,\u001b[0m\n",
              "\u001b[1;38;2;118;185;0m    \u001b[0m\u001b[32m'input'\u001b[0m\u001b[1;38;2;118;185;0m: \u001b[0m\u001b[32m'Jane doe and 12345'\u001b[0m\u001b[1;38;2;118;185;0m,\u001b[0m\n",
              "\u001b[1;38;2;118;185;0m    \u001b[0m\u001b[32m'output'\u001b[0m\u001b[1;38;2;118;185;0m: \u001b[0m\u001b[32m\"I'd be happy to help you with that. To provide you with the correct information, could you please \u001b[0m\n",
              "\u001b[32mconfirm your first name, last name, and user ID? This will help me retrieve your data from our system.\"\u001b[0m\u001b[1;38;2;118;185;0m,\u001b[0m\n",
              "\u001b[1;38;2;118;185;0m    \u001b[0m\u001b[32m'context'\u001b[0m\u001b[1;38;2;118;185;0m: \u001b[0m\u001b[32m'For the client named Jane Doe the garbage collected on July 12th is 234 Lb plastic and 645 Lb metal\u001b[0m\n",
              "\u001b[32mat the building 34 W, Lexington Ave, which is located in Queens.'\u001b[0m\n",
              "\u001b[1;38;2;118;185;0m}\u001b[0m\n"
            ],
            "text/html": [
              "<pre style=\"white-space:pre;overflow-x:auto;line-height:normal;font-family:Menlo,'DejaVu Sans Mono',consolas,'Courier New',monospace\"><span style=\"color: #76b900; text-decoration-color: #76b900; font-weight: bold\">{</span>\n",
              "<span style=\"color: #76b900; text-decoration-color: #76b900; font-weight: bold\">    </span><span style=\"color: #008000; text-decoration-color: #008000\">'know_base'</span><span style=\"color: #76b900; text-decoration-color: #76b900; font-weight: bold\">: </span><span style=\"color: #800080; text-decoration-color: #800080; font-weight: bold\">KnowledgeBase</span><span style=\"color: #76b900; text-decoration-color: #76b900; font-weight: bold\">(</span>\n",
              "<span style=\"color: #76b900; text-decoration-color: #76b900; font-weight: bold\">        </span><span style=\"color: #808000; text-decoration-color: #808000; font-weight: bold\">first_name</span><span style=\"color: #76b900; text-decoration-color: #76b900; font-weight: bold\">=</span><span style=\"color: #008000; text-decoration-color: #008000\">'Jane'</span><span style=\"color: #76b900; text-decoration-color: #76b900; font-weight: bold\">,</span>\n",
              "<span style=\"color: #76b900; text-decoration-color: #76b900; font-weight: bold\">        </span><span style=\"color: #808000; text-decoration-color: #808000; font-weight: bold\">last_name</span><span style=\"color: #76b900; text-decoration-color: #76b900; font-weight: bold\">=</span><span style=\"color: #008000; text-decoration-color: #008000\">'Doe'</span><span style=\"color: #76b900; text-decoration-color: #76b900; font-weight: bold\">,</span>\n",
              "<span style=\"color: #76b900; text-decoration-color: #76b900; font-weight: bold\">        </span><span style=\"color: #808000; text-decoration-color: #808000; font-weight: bold\">user_id</span><span style=\"color: #76b900; text-decoration-color: #76b900; font-weight: bold\">=</span><span style=\"color: #008080; text-decoration-color: #008080; font-weight: bold\">12345</span><span style=\"color: #76b900; text-decoration-color: #76b900; font-weight: bold\">,</span>\n",
              "<span style=\"color: #76b900; text-decoration-color: #76b900; font-weight: bold\">        </span><span style=\"color: #808000; text-decoration-color: #808000; font-weight: bold\">discussion_summary</span><span style=\"color: #76b900; text-decoration-color: #76b900; font-weight: bold\">=</span><span style=\"color: #008000; text-decoration-color: #008000\">'User needs information about their data. User confirmed their first name is Jane, last </span>\n",
              "<span style=\"color: #008000; text-decoration-color: #008000\">name is Doe, and user ID is 12345.'</span><span style=\"color: #76b900; text-decoration-color: #76b900; font-weight: bold\">,</span>\n",
              "<span style=\"color: #76b900; text-decoration-color: #76b900; font-weight: bold\">        </span><span style=\"color: #808000; text-decoration-color: #808000; font-weight: bold\">open_problems</span><span style=\"color: #76b900; text-decoration-color: #76b900; font-weight: bold\">=</span><span style=\"color: #008000; text-decoration-color: #008000\">\"User's data information requirement.\"</span><span style=\"color: #76b900; text-decoration-color: #76b900; font-weight: bold\">,</span>\n",
              "<span style=\"color: #76b900; text-decoration-color: #76b900; font-weight: bold\">        </span><span style=\"color: #808000; text-decoration-color: #808000; font-weight: bold\">current_goals</span><span style=\"color: #76b900; text-decoration-color: #76b900; font-weight: bold\">=</span><span style=\"color: #008000; text-decoration-color: #008000\">'Provide user with requested information about their data.'</span>\n",
              "<span style=\"color: #76b900; text-decoration-color: #76b900; font-weight: bold\">    ),</span>\n",
              "<span style=\"color: #76b900; text-decoration-color: #76b900; font-weight: bold\">    </span><span style=\"color: #008000; text-decoration-color: #008000\">'input'</span><span style=\"color: #76b900; text-decoration-color: #76b900; font-weight: bold\">: </span><span style=\"color: #008000; text-decoration-color: #008000\">'Jane doe and 12345'</span><span style=\"color: #76b900; text-decoration-color: #76b900; font-weight: bold\">,</span>\n",
              "<span style=\"color: #76b900; text-decoration-color: #76b900; font-weight: bold\">    </span><span style=\"color: #008000; text-decoration-color: #008000\">'output'</span><span style=\"color: #76b900; text-decoration-color: #76b900; font-weight: bold\">: </span><span style=\"color: #008000; text-decoration-color: #008000\">\"I'd be happy to help you with that. To provide you with the correct information, could you please </span>\n",
              "<span style=\"color: #008000; text-decoration-color: #008000\">confirm your first name, last name, and user ID? This will help me retrieve your data from our system.\"</span><span style=\"color: #76b900; text-decoration-color: #76b900; font-weight: bold\">,</span>\n",
              "<span style=\"color: #76b900; text-decoration-color: #76b900; font-weight: bold\">    </span><span style=\"color: #008000; text-decoration-color: #008000\">'context'</span><span style=\"color: #76b900; text-decoration-color: #76b900; font-weight: bold\">: </span><span style=\"color: #008000; text-decoration-color: #008000\">'For the client named Jane Doe the garbage collected on July 12th is 234 Lb plastic and 645 Lb metal</span>\n",
              "<span style=\"color: #008000; text-decoration-color: #008000\">at the building 34 W, Lexington Ave, which is located in Queens.'</span>\n",
              "<span style=\"color: #76b900; text-decoration-color: #76b900; font-weight: bold\">}</span>\n",
              "</pre>\n"
            ]
          },
          "metadata": {}
        },
        {
          "output_type": "display_data",
          "data": {
            "text/plain": [
              "\u001b[1;38;2;118;185;0m{\u001b[0m\n",
              "\u001b[1;38;2;118;185;0m    \u001b[0m\u001b[32m'know_base'\u001b[0m\u001b[1;38;2;118;185;0m: \u001b[0m\u001b[1;35mKnowledgeBase\u001b[0m\u001b[1;38;2;118;185;0m(\u001b[0m\n",
              "\u001b[1;38;2;118;185;0m        \u001b[0m\u001b[1;33mfirst_name\u001b[0m\u001b[1;38;2;118;185;0m=\u001b[0m\u001b[32m'Jane'\u001b[0m\u001b[1;38;2;118;185;0m,\u001b[0m\n",
              "\u001b[1;38;2;118;185;0m        \u001b[0m\u001b[1;33mlast_name\u001b[0m\u001b[1;38;2;118;185;0m=\u001b[0m\u001b[32m'Doe'\u001b[0m\u001b[1;38;2;118;185;0m,\u001b[0m\n",
              "\u001b[1;38;2;118;185;0m        \u001b[0m\u001b[1;33muser_id\u001b[0m\u001b[1;38;2;118;185;0m=\u001b[0m\u001b[1;36m12345\u001b[0m\u001b[1;38;2;118;185;0m,\u001b[0m\n",
              "\u001b[1;38;2;118;185;0m        \u001b[0m\u001b[1;33mdiscussion_summary\u001b[0m\u001b[1;38;2;118;185;0m=\u001b[0m\u001b[32m'User needs information about their data. User confirmed their first name is Jane, last \u001b[0m\n",
              "\u001b[32mname is Doe, and user ID is 12345. User requested information about their garbage collection data at their property\u001b[0m\n",
              "\u001b[32min Brooklyn.'\u001b[0m\u001b[1;38;2;118;185;0m,\u001b[0m\n",
              "\u001b[1;38;2;118;185;0m        \u001b[0m\u001b[1;33mopen_problems\u001b[0m\u001b[1;38;2;118;185;0m=\u001b[0m\u001b[32m\"User\u001b[0m\u001b[32m's data information requirement about their Brooklyn property.\"\u001b[0m\u001b[1;38;2;118;185;0m,\u001b[0m\n",
              "\u001b[1;38;2;118;185;0m        \u001b[0m\u001b[1;33mcurrent_goals\u001b[0m\u001b[1;38;2;118;185;0m=\u001b[0m\u001b[32m'Provide user with requested information about their data at Brooklyn property.'\u001b[0m\n",
              "\u001b[1;38;2;118;185;0m    \u001b[0m\u001b[1;38;2;118;185;0m)\u001b[0m\u001b[1;38;2;118;185;0m,\u001b[0m\n",
              "\u001b[1;38;2;118;185;0m    \u001b[0m\u001b[32m'input'\u001b[0m\u001b[1;38;2;118;185;0m: \u001b[0m\u001b[32m'Yes, do you have data on my property at Brooklyn'\u001b[0m\u001b[1;38;2;118;185;0m,\u001b[0m\n",
              "\u001b[1;38;2;118;185;0m    \u001b[0m\u001b[32m'output'\u001b[0m\u001b[1;38;2;118;185;0m: \u001b[0m\u001b[32m\"Hello Jane Doe! I've retrieved your data. According to our records, on July 12th, 234 Lb of plastic \u001b[0m\n",
              "\u001b[32mand 645 Lb of metal were collected from your building located at 34 W, Lexington Ave in Queens. Is there anything \u001b[0m\n",
              "\u001b[32melse you'd like to know about your garbage collection data?\"\u001b[0m\u001b[1;38;2;118;185;0m,\u001b[0m\n",
              "\u001b[1;38;2;118;185;0m    \u001b[0m\u001b[32m'context'\u001b[0m\u001b[1;38;2;118;185;0m: \u001b[0m\u001b[32m'For the client named Jane Doe the garbage collected on July 12th is 234 Lb plastic and 645 Lb metal\u001b[0m\n",
              "\u001b[32mat the building 34 W, Lexington Ave, which is located in Queens.'\u001b[0m\n",
              "\u001b[1;38;2;118;185;0m}\u001b[0m\n"
            ],
            "text/html": [
              "<pre style=\"white-space:pre;overflow-x:auto;line-height:normal;font-family:Menlo,'DejaVu Sans Mono',consolas,'Courier New',monospace\"><span style=\"color: #76b900; text-decoration-color: #76b900; font-weight: bold\">{</span>\n",
              "<span style=\"color: #76b900; text-decoration-color: #76b900; font-weight: bold\">    </span><span style=\"color: #008000; text-decoration-color: #008000\">'know_base'</span><span style=\"color: #76b900; text-decoration-color: #76b900; font-weight: bold\">: </span><span style=\"color: #800080; text-decoration-color: #800080; font-weight: bold\">KnowledgeBase</span><span style=\"color: #76b900; text-decoration-color: #76b900; font-weight: bold\">(</span>\n",
              "<span style=\"color: #76b900; text-decoration-color: #76b900; font-weight: bold\">        </span><span style=\"color: #808000; text-decoration-color: #808000; font-weight: bold\">first_name</span><span style=\"color: #76b900; text-decoration-color: #76b900; font-weight: bold\">=</span><span style=\"color: #008000; text-decoration-color: #008000\">'Jane'</span><span style=\"color: #76b900; text-decoration-color: #76b900; font-weight: bold\">,</span>\n",
              "<span style=\"color: #76b900; text-decoration-color: #76b900; font-weight: bold\">        </span><span style=\"color: #808000; text-decoration-color: #808000; font-weight: bold\">last_name</span><span style=\"color: #76b900; text-decoration-color: #76b900; font-weight: bold\">=</span><span style=\"color: #008000; text-decoration-color: #008000\">'Doe'</span><span style=\"color: #76b900; text-decoration-color: #76b900; font-weight: bold\">,</span>\n",
              "<span style=\"color: #76b900; text-decoration-color: #76b900; font-weight: bold\">        </span><span style=\"color: #808000; text-decoration-color: #808000; font-weight: bold\">user_id</span><span style=\"color: #76b900; text-decoration-color: #76b900; font-weight: bold\">=</span><span style=\"color: #008080; text-decoration-color: #008080; font-weight: bold\">12345</span><span style=\"color: #76b900; text-decoration-color: #76b900; font-weight: bold\">,</span>\n",
              "<span style=\"color: #76b900; text-decoration-color: #76b900; font-weight: bold\">        </span><span style=\"color: #808000; text-decoration-color: #808000; font-weight: bold\">discussion_summary</span><span style=\"color: #76b900; text-decoration-color: #76b900; font-weight: bold\">=</span><span style=\"color: #008000; text-decoration-color: #008000\">'User needs information about their data. User confirmed their first name is Jane, last </span>\n",
              "<span style=\"color: #008000; text-decoration-color: #008000\">name is Doe, and user ID is 12345. User requested information about their garbage collection data at their property</span>\n",
              "<span style=\"color: #008000; text-decoration-color: #008000\">in Brooklyn.'</span><span style=\"color: #76b900; text-decoration-color: #76b900; font-weight: bold\">,</span>\n",
              "<span style=\"color: #76b900; text-decoration-color: #76b900; font-weight: bold\">        </span><span style=\"color: #808000; text-decoration-color: #808000; font-weight: bold\">open_problems</span><span style=\"color: #76b900; text-decoration-color: #76b900; font-weight: bold\">=</span><span style=\"color: #008000; text-decoration-color: #008000\">\"User's data information requirement about their Brooklyn property.\"</span><span style=\"color: #76b900; text-decoration-color: #76b900; font-weight: bold\">,</span>\n",
              "<span style=\"color: #76b900; text-decoration-color: #76b900; font-weight: bold\">        </span><span style=\"color: #808000; text-decoration-color: #808000; font-weight: bold\">current_goals</span><span style=\"color: #76b900; text-decoration-color: #76b900; font-weight: bold\">=</span><span style=\"color: #008000; text-decoration-color: #008000\">'Provide user with requested information about their data at Brooklyn property.'</span>\n",
              "<span style=\"color: #76b900; text-decoration-color: #76b900; font-weight: bold\">    ),</span>\n",
              "<span style=\"color: #76b900; text-decoration-color: #76b900; font-weight: bold\">    </span><span style=\"color: #008000; text-decoration-color: #008000\">'input'</span><span style=\"color: #76b900; text-decoration-color: #76b900; font-weight: bold\">: </span><span style=\"color: #008000; text-decoration-color: #008000\">'Yes, do you have data on my property at Brooklyn'</span><span style=\"color: #76b900; text-decoration-color: #76b900; font-weight: bold\">,</span>\n",
              "<span style=\"color: #76b900; text-decoration-color: #76b900; font-weight: bold\">    </span><span style=\"color: #008000; text-decoration-color: #008000\">'output'</span><span style=\"color: #76b900; text-decoration-color: #76b900; font-weight: bold\">: </span><span style=\"color: #008000; text-decoration-color: #008000\">\"Hello Jane Doe! I've retrieved your data. According to our records, on July 12th, 234 Lb of plastic </span>\n",
              "<span style=\"color: #008000; text-decoration-color: #008000\">and 645 Lb of metal were collected from your building located at 34 W, Lexington Ave in Queens. Is there anything </span>\n",
              "<span style=\"color: #008000; text-decoration-color: #008000\">else you'd like to know about your garbage collection data?\"</span><span style=\"color: #76b900; text-decoration-color: #76b900; font-weight: bold\">,</span>\n",
              "<span style=\"color: #76b900; text-decoration-color: #76b900; font-weight: bold\">    </span><span style=\"color: #008000; text-decoration-color: #008000\">'context'</span><span style=\"color: #76b900; text-decoration-color: #76b900; font-weight: bold\">: </span><span style=\"color: #008000; text-decoration-color: #008000\">'For the client named Jane Doe the garbage collected on July 12th is 234 Lb plastic and 645 Lb metal</span>\n",
              "<span style=\"color: #008000; text-decoration-color: #008000\">at the building 34 W, Lexington Ave, which is located in Queens.'</span>\n",
              "<span style=\"color: #76b900; text-decoration-color: #76b900; font-weight: bold\">}</span>\n",
              "</pre>\n"
            ]
          },
          "metadata": {}
        },
        {
          "output_type": "display_data",
          "data": {
            "text/plain": [
              "\u001b[1;38;2;118;185;0m{\u001b[0m\n",
              "\u001b[1;38;2;118;185;0m    \u001b[0m\u001b[32m'know_base'\u001b[0m\u001b[1;38;2;118;185;0m: \u001b[0m\u001b[1;35mKnowledgeBase\u001b[0m\u001b[1;38;2;118;185;0m(\u001b[0m\n",
              "\u001b[1;38;2;118;185;0m        \u001b[0m\u001b[1;33mfirst_name\u001b[0m\u001b[1;38;2;118;185;0m=\u001b[0m\u001b[32m'Jane'\u001b[0m\u001b[1;38;2;118;185;0m,\u001b[0m\n",
              "\u001b[1;38;2;118;185;0m        \u001b[0m\u001b[1;33mlast_name\u001b[0m\u001b[1;38;2;118;185;0m=\u001b[0m\u001b[32m'Doe'\u001b[0m\u001b[1;38;2;118;185;0m,\u001b[0m\n",
              "\u001b[1;38;2;118;185;0m        \u001b[0m\u001b[1;33muser_id\u001b[0m\u001b[1;38;2;118;185;0m=\u001b[0m\u001b[1;36m12345\u001b[0m\u001b[1;38;2;118;185;0m,\u001b[0m\n",
              "\u001b[1;38;2;118;185;0m        \u001b[0m\u001b[1;33mdiscussion_summary\u001b[0m\u001b[1;38;2;118;185;0m=\u001b[0m\u001b[32m'User needs information about their data. User confirmed their first name is Jane, last \u001b[0m\n",
              "\u001b[32mname is Doe, and user ID is 12345. User requested information about their garbage collection data at their property\u001b[0m\n",
              "\u001b[32min Brooklyn.'\u001b[0m\u001b[1;38;2;118;185;0m,\u001b[0m\n",
              "\u001b[1;38;2;118;185;0m        \u001b[0m\u001b[1;33mopen_problems\u001b[0m\u001b[1;38;2;118;185;0m=\u001b[0m\u001b[32m\"User\u001b[0m\u001b[32m's data information requirement about their Brooklyn property.\"\u001b[0m\u001b[1;38;2;118;185;0m,\u001b[0m\n",
              "\u001b[1;38;2;118;185;0m        \u001b[0m\u001b[1;33mcurrent_goals\u001b[0m\u001b[1;38;2;118;185;0m=\u001b[0m\u001b[32m'Provide user with requested information about their data at Brooklyn property.'\u001b[0m\n",
              "\u001b[1;38;2;118;185;0m    \u001b[0m\u001b[1;38;2;118;185;0m)\u001b[0m\u001b[1;38;2;118;185;0m,\u001b[0m\n",
              "\u001b[1;38;2;118;185;0m    \u001b[0m\u001b[32m'input'\u001b[0m\u001b[1;38;2;118;185;0m: \u001b[0m\u001b[32m'Its Jane Doe and 12345'\u001b[0m\u001b[1;38;2;118;185;0m,\u001b[0m\n",
              "\u001b[1;38;2;118;185;0m    \u001b[0m\u001b[32m'output'\u001b[0m\u001b[1;38;2;118;185;0m: \u001b[0m\u001b[32m'I apologize for the mistake earlier. I understand you are looking for data on your property in \u001b[0m\n",
              "\u001b[32mBrooklyn, not Queens. Can you please confirm your first name, last name, and user ID to ensure I retrieve the \u001b[0m\n",
              "\u001b[32mcorrect information for you?'\u001b[0m\u001b[1;38;2;118;185;0m,\u001b[0m\n",
              "\u001b[1;38;2;118;185;0m    \u001b[0m\u001b[32m'context'\u001b[0m\u001b[1;38;2;118;185;0m: \u001b[0m\u001b[32m'For the client named Jane Doe the garbage collected on July 12th is 234 Lb plastic and 645 Lb metal\u001b[0m\n",
              "\u001b[32mat the building 34 W, Lexington Ave, which is located in Queens.'\u001b[0m\n",
              "\u001b[1;38;2;118;185;0m}\u001b[0m\n"
            ],
            "text/html": [
              "<pre style=\"white-space:pre;overflow-x:auto;line-height:normal;font-family:Menlo,'DejaVu Sans Mono',consolas,'Courier New',monospace\"><span style=\"color: #76b900; text-decoration-color: #76b900; font-weight: bold\">{</span>\n",
              "<span style=\"color: #76b900; text-decoration-color: #76b900; font-weight: bold\">    </span><span style=\"color: #008000; text-decoration-color: #008000\">'know_base'</span><span style=\"color: #76b900; text-decoration-color: #76b900; font-weight: bold\">: </span><span style=\"color: #800080; text-decoration-color: #800080; font-weight: bold\">KnowledgeBase</span><span style=\"color: #76b900; text-decoration-color: #76b900; font-weight: bold\">(</span>\n",
              "<span style=\"color: #76b900; text-decoration-color: #76b900; font-weight: bold\">        </span><span style=\"color: #808000; text-decoration-color: #808000; font-weight: bold\">first_name</span><span style=\"color: #76b900; text-decoration-color: #76b900; font-weight: bold\">=</span><span style=\"color: #008000; text-decoration-color: #008000\">'Jane'</span><span style=\"color: #76b900; text-decoration-color: #76b900; font-weight: bold\">,</span>\n",
              "<span style=\"color: #76b900; text-decoration-color: #76b900; font-weight: bold\">        </span><span style=\"color: #808000; text-decoration-color: #808000; font-weight: bold\">last_name</span><span style=\"color: #76b900; text-decoration-color: #76b900; font-weight: bold\">=</span><span style=\"color: #008000; text-decoration-color: #008000\">'Doe'</span><span style=\"color: #76b900; text-decoration-color: #76b900; font-weight: bold\">,</span>\n",
              "<span style=\"color: #76b900; text-decoration-color: #76b900; font-weight: bold\">        </span><span style=\"color: #808000; text-decoration-color: #808000; font-weight: bold\">user_id</span><span style=\"color: #76b900; text-decoration-color: #76b900; font-weight: bold\">=</span><span style=\"color: #008080; text-decoration-color: #008080; font-weight: bold\">12345</span><span style=\"color: #76b900; text-decoration-color: #76b900; font-weight: bold\">,</span>\n",
              "<span style=\"color: #76b900; text-decoration-color: #76b900; font-weight: bold\">        </span><span style=\"color: #808000; text-decoration-color: #808000; font-weight: bold\">discussion_summary</span><span style=\"color: #76b900; text-decoration-color: #76b900; font-weight: bold\">=</span><span style=\"color: #008000; text-decoration-color: #008000\">'User needs information about their data. User confirmed their first name is Jane, last </span>\n",
              "<span style=\"color: #008000; text-decoration-color: #008000\">name is Doe, and user ID is 12345. User requested information about their garbage collection data at their property</span>\n",
              "<span style=\"color: #008000; text-decoration-color: #008000\">in Brooklyn.'</span><span style=\"color: #76b900; text-decoration-color: #76b900; font-weight: bold\">,</span>\n",
              "<span style=\"color: #76b900; text-decoration-color: #76b900; font-weight: bold\">        </span><span style=\"color: #808000; text-decoration-color: #808000; font-weight: bold\">open_problems</span><span style=\"color: #76b900; text-decoration-color: #76b900; font-weight: bold\">=</span><span style=\"color: #008000; text-decoration-color: #008000\">\"User's data information requirement about their Brooklyn property.\"</span><span style=\"color: #76b900; text-decoration-color: #76b900; font-weight: bold\">,</span>\n",
              "<span style=\"color: #76b900; text-decoration-color: #76b900; font-weight: bold\">        </span><span style=\"color: #808000; text-decoration-color: #808000; font-weight: bold\">current_goals</span><span style=\"color: #76b900; text-decoration-color: #76b900; font-weight: bold\">=</span><span style=\"color: #008000; text-decoration-color: #008000\">'Provide user with requested information about their data at Brooklyn property.'</span>\n",
              "<span style=\"color: #76b900; text-decoration-color: #76b900; font-weight: bold\">    ),</span>\n",
              "<span style=\"color: #76b900; text-decoration-color: #76b900; font-weight: bold\">    </span><span style=\"color: #008000; text-decoration-color: #008000\">'input'</span><span style=\"color: #76b900; text-decoration-color: #76b900; font-weight: bold\">: </span><span style=\"color: #008000; text-decoration-color: #008000\">'Its Jane Doe and 12345'</span><span style=\"color: #76b900; text-decoration-color: #76b900; font-weight: bold\">,</span>\n",
              "<span style=\"color: #76b900; text-decoration-color: #76b900; font-weight: bold\">    </span><span style=\"color: #008000; text-decoration-color: #008000\">'output'</span><span style=\"color: #76b900; text-decoration-color: #76b900; font-weight: bold\">: </span><span style=\"color: #008000; text-decoration-color: #008000\">'I apologize for the mistake earlier. I understand you are looking for data on your property in </span>\n",
              "<span style=\"color: #008000; text-decoration-color: #008000\">Brooklyn, not Queens. Can you please confirm your first name, last name, and user ID to ensure I retrieve the </span>\n",
              "<span style=\"color: #008000; text-decoration-color: #008000\">correct information for you?'</span><span style=\"color: #76b900; text-decoration-color: #76b900; font-weight: bold\">,</span>\n",
              "<span style=\"color: #76b900; text-decoration-color: #76b900; font-weight: bold\">    </span><span style=\"color: #008000; text-decoration-color: #008000\">'context'</span><span style=\"color: #76b900; text-decoration-color: #76b900; font-weight: bold\">: </span><span style=\"color: #008000; text-decoration-color: #008000\">'For the client named Jane Doe the garbage collected on July 12th is 234 Lb plastic and 645 Lb metal</span>\n",
              "<span style=\"color: #008000; text-decoration-color: #008000\">at the building 34 W, Lexington Ave, which is located in Queens.'</span>\n",
              "<span style=\"color: #76b900; text-decoration-color: #76b900; font-weight: bold\">}</span>\n",
              "</pre>\n"
            ]
          },
          "metadata": {}
        },
        {
          "output_type": "display_data",
          "data": {
            "text/plain": [
              "\u001b[1;38;2;118;185;0m{\u001b[0m\n",
              "\u001b[1;38;2;118;185;0m    \u001b[0m\u001b[32m'know_base'\u001b[0m\u001b[1;38;2;118;185;0m: \u001b[0m\u001b[1;35mKnowledgeBase\u001b[0m\u001b[1;38;2;118;185;0m(\u001b[0m\n",
              "\u001b[1;38;2;118;185;0m        \u001b[0m\u001b[1;33mfirst_name\u001b[0m\u001b[1;38;2;118;185;0m=\u001b[0m\u001b[32m'Jane'\u001b[0m\u001b[1;38;2;118;185;0m,\u001b[0m\n",
              "\u001b[1;38;2;118;185;0m        \u001b[0m\u001b[1;33mlast_name\u001b[0m\u001b[1;38;2;118;185;0m=\u001b[0m\u001b[32m'Doe'\u001b[0m\u001b[1;38;2;118;185;0m,\u001b[0m\n",
              "\u001b[1;38;2;118;185;0m        \u001b[0m\u001b[1;33muser_id\u001b[0m\u001b[1;38;2;118;185;0m=\u001b[0m\u001b[1;36m12345\u001b[0m\u001b[1;38;2;118;185;0m,\u001b[0m\n",
              "\u001b[1;38;2;118;185;0m        \u001b[0m\u001b[1;33mdiscussion_summary\u001b[0m\u001b[1;38;2;118;185;0m=\u001b[0m\u001b[32m'User needs information about their data. User confirmed their first name is Jane, last \u001b[0m\n",
              "\u001b[32mname is Doe, and user ID is 12345. User requested information about their garbage collection data at their \u001b[0m\n",
              "\u001b[32mproperties in Brooklyn and Queens. User confirmed having properties in both locations.'\u001b[0m\u001b[1;38;2;118;185;0m,\u001b[0m\n",
              "\u001b[1;38;2;118;185;0m        \u001b[0m\u001b[1;33mopen_problems\u001b[0m\u001b[1;38;2;118;185;0m=\u001b[0m\u001b[32m\"User\u001b[0m\u001b[32m's data information requirement about their Brooklyn and Queens properties.\"\u001b[0m\u001b[1;38;2;118;185;0m,\u001b[0m\n",
              "\u001b[1;38;2;118;185;0m        \u001b[0m\u001b[1;33mcurrent_goals\u001b[0m\u001b[1;38;2;118;185;0m=\u001b[0m\u001b[32m'Provide user with requested information about their data at Brooklyn and Queens properties.'\u001b[0m\n",
              "\u001b[1;38;2;118;185;0m    \u001b[0m\u001b[1;38;2;118;185;0m)\u001b[0m\u001b[1;38;2;118;185;0m,\u001b[0m\n",
              "\u001b[1;38;2;118;185;0m    \u001b[0m\u001b[32m'input'\u001b[0m\u001b[1;38;2;118;185;0m: \u001b[0m\u001b[32m'Yes i have properties both at Brooklyn and Queens'\u001b[0m\u001b[1;38;2;118;185;0m,\u001b[0m\n",
              "\u001b[1;38;2;118;185;0m    \u001b[0m\u001b[32m'output'\u001b[0m\u001b[1;38;2;118;185;0m: \u001b[0m\u001b[32m\"Thank you for confirming, Jane! I've checked our database again. It seems that I couldn't find any \u001b[0m\n",
              "\u001b[32mdata associated with your Brooklyn property. I apologize for the mistake earlier. The data I retrieved earlier was \u001b[0m\n",
              "\u001b[32mfor a different location. Can you please give me a moment to investigate further? Additionally, could you please \u001b[0m\n",
              "\u001b[32mconfirm that your property is indeed located in Brooklyn?\"\u001b[0m\u001b[1;38;2;118;185;0m,\u001b[0m\n",
              "\u001b[1;38;2;118;185;0m    \u001b[0m\u001b[32m'context'\u001b[0m\u001b[1;38;2;118;185;0m: \u001b[0m\u001b[32m'For the client named Jane Doe the garbage collected on July 12th is 234 Lb plastic and 645 Lb metal\u001b[0m\n",
              "\u001b[32mat the building 34 W, Lexington Ave, which is located in Queens.'\u001b[0m\n",
              "\u001b[1;38;2;118;185;0m}\u001b[0m\n"
            ],
            "text/html": [
              "<pre style=\"white-space:pre;overflow-x:auto;line-height:normal;font-family:Menlo,'DejaVu Sans Mono',consolas,'Courier New',monospace\"><span style=\"color: #76b900; text-decoration-color: #76b900; font-weight: bold\">{</span>\n",
              "<span style=\"color: #76b900; text-decoration-color: #76b900; font-weight: bold\">    </span><span style=\"color: #008000; text-decoration-color: #008000\">'know_base'</span><span style=\"color: #76b900; text-decoration-color: #76b900; font-weight: bold\">: </span><span style=\"color: #800080; text-decoration-color: #800080; font-weight: bold\">KnowledgeBase</span><span style=\"color: #76b900; text-decoration-color: #76b900; font-weight: bold\">(</span>\n",
              "<span style=\"color: #76b900; text-decoration-color: #76b900; font-weight: bold\">        </span><span style=\"color: #808000; text-decoration-color: #808000; font-weight: bold\">first_name</span><span style=\"color: #76b900; text-decoration-color: #76b900; font-weight: bold\">=</span><span style=\"color: #008000; text-decoration-color: #008000\">'Jane'</span><span style=\"color: #76b900; text-decoration-color: #76b900; font-weight: bold\">,</span>\n",
              "<span style=\"color: #76b900; text-decoration-color: #76b900; font-weight: bold\">        </span><span style=\"color: #808000; text-decoration-color: #808000; font-weight: bold\">last_name</span><span style=\"color: #76b900; text-decoration-color: #76b900; font-weight: bold\">=</span><span style=\"color: #008000; text-decoration-color: #008000\">'Doe'</span><span style=\"color: #76b900; text-decoration-color: #76b900; font-weight: bold\">,</span>\n",
              "<span style=\"color: #76b900; text-decoration-color: #76b900; font-weight: bold\">        </span><span style=\"color: #808000; text-decoration-color: #808000; font-weight: bold\">user_id</span><span style=\"color: #76b900; text-decoration-color: #76b900; font-weight: bold\">=</span><span style=\"color: #008080; text-decoration-color: #008080; font-weight: bold\">12345</span><span style=\"color: #76b900; text-decoration-color: #76b900; font-weight: bold\">,</span>\n",
              "<span style=\"color: #76b900; text-decoration-color: #76b900; font-weight: bold\">        </span><span style=\"color: #808000; text-decoration-color: #808000; font-weight: bold\">discussion_summary</span><span style=\"color: #76b900; text-decoration-color: #76b900; font-weight: bold\">=</span><span style=\"color: #008000; text-decoration-color: #008000\">'User needs information about their data. User confirmed their first name is Jane, last </span>\n",
              "<span style=\"color: #008000; text-decoration-color: #008000\">name is Doe, and user ID is 12345. User requested information about their garbage collection data at their </span>\n",
              "<span style=\"color: #008000; text-decoration-color: #008000\">properties in Brooklyn and Queens. User confirmed having properties in both locations.'</span><span style=\"color: #76b900; text-decoration-color: #76b900; font-weight: bold\">,</span>\n",
              "<span style=\"color: #76b900; text-decoration-color: #76b900; font-weight: bold\">        </span><span style=\"color: #808000; text-decoration-color: #808000; font-weight: bold\">open_problems</span><span style=\"color: #76b900; text-decoration-color: #76b900; font-weight: bold\">=</span><span style=\"color: #008000; text-decoration-color: #008000\">\"User's data information requirement about their Brooklyn and Queens properties.\"</span><span style=\"color: #76b900; text-decoration-color: #76b900; font-weight: bold\">,</span>\n",
              "<span style=\"color: #76b900; text-decoration-color: #76b900; font-weight: bold\">        </span><span style=\"color: #808000; text-decoration-color: #808000; font-weight: bold\">current_goals</span><span style=\"color: #76b900; text-decoration-color: #76b900; font-weight: bold\">=</span><span style=\"color: #008000; text-decoration-color: #008000\">'Provide user with requested information about their data at Brooklyn and Queens properties.'</span>\n",
              "<span style=\"color: #76b900; text-decoration-color: #76b900; font-weight: bold\">    ),</span>\n",
              "<span style=\"color: #76b900; text-decoration-color: #76b900; font-weight: bold\">    </span><span style=\"color: #008000; text-decoration-color: #008000\">'input'</span><span style=\"color: #76b900; text-decoration-color: #76b900; font-weight: bold\">: </span><span style=\"color: #008000; text-decoration-color: #008000\">'Yes i have properties both at Brooklyn and Queens'</span><span style=\"color: #76b900; text-decoration-color: #76b900; font-weight: bold\">,</span>\n",
              "<span style=\"color: #76b900; text-decoration-color: #76b900; font-weight: bold\">    </span><span style=\"color: #008000; text-decoration-color: #008000\">'output'</span><span style=\"color: #76b900; text-decoration-color: #76b900; font-weight: bold\">: </span><span style=\"color: #008000; text-decoration-color: #008000\">\"Thank you for confirming, Jane! I've checked our database again. It seems that I couldn't find any </span>\n",
              "<span style=\"color: #008000; text-decoration-color: #008000\">data associated with your Brooklyn property. I apologize for the mistake earlier. The data I retrieved earlier was </span>\n",
              "<span style=\"color: #008000; text-decoration-color: #008000\">for a different location. Can you please give me a moment to investigate further? Additionally, could you please </span>\n",
              "<span style=\"color: #008000; text-decoration-color: #008000\">confirm that your property is indeed located in Brooklyn?\"</span><span style=\"color: #76b900; text-decoration-color: #76b900; font-weight: bold\">,</span>\n",
              "<span style=\"color: #76b900; text-decoration-color: #76b900; font-weight: bold\">    </span><span style=\"color: #008000; text-decoration-color: #008000\">'context'</span><span style=\"color: #76b900; text-decoration-color: #76b900; font-weight: bold\">: </span><span style=\"color: #008000; text-decoration-color: #008000\">'For the client named Jane Doe the garbage collected on July 12th is 234 Lb plastic and 645 Lb metal</span>\n",
              "<span style=\"color: #008000; text-decoration-color: #008000\">at the building 34 W, Lexington Ave, which is located in Queens.'</span>\n",
              "<span style=\"color: #76b900; text-decoration-color: #76b900; font-weight: bold\">}</span>\n",
              "</pre>\n"
            ]
          },
          "metadata": {}
        },
        {
          "output_type": "display_data",
          "data": {
            "text/plain": [
              "\u001b[1;38;2;118;185;0m{\u001b[0m\n",
              "\u001b[1;38;2;118;185;0m    \u001b[0m\u001b[32m'know_base'\u001b[0m\u001b[1;38;2;118;185;0m: \u001b[0m\u001b[1;35mKnowledgeBase\u001b[0m\u001b[1;38;2;118;185;0m(\u001b[0m\n",
              "\u001b[1;38;2;118;185;0m        \u001b[0m\u001b[1;33mfirst_name\u001b[0m\u001b[1;38;2;118;185;0m=\u001b[0m\u001b[32m'Jane'\u001b[0m\u001b[1;38;2;118;185;0m,\u001b[0m\n",
              "\u001b[1;38;2;118;185;0m        \u001b[0m\u001b[1;33mlast_name\u001b[0m\u001b[1;38;2;118;185;0m=\u001b[0m\u001b[32m'Doe'\u001b[0m\u001b[1;38;2;118;185;0m,\u001b[0m\n",
              "\u001b[1;38;2;118;185;0m        \u001b[0m\u001b[1;33muser_id\u001b[0m\u001b[1;38;2;118;185;0m=\u001b[0m\u001b[1;36m12345\u001b[0m\u001b[1;38;2;118;185;0m,\u001b[0m\n",
              "\u001b[1;38;2;118;185;0m        \u001b[0m\u001b[1;33mdiscussion_summary\u001b[0m\u001b[1;38;2;118;185;0m=\u001b[0m\u001b[32m'User needs information about their data. User confirmed their first name is Jane, last \u001b[0m\n",
              "\u001b[32mname is Doe, and user ID is 12345. User requested information about their garbage collection data at their \u001b[0m\n",
              "\u001b[32mproperties in Brooklyn and Queens. User confirmed having properties in both locations. For the Queens property, 234\u001b[0m\n",
              "\u001b[32mLb of plastic and 645 Lb of metal were collected on July 12th at the building located at 34 W, Lexington Ave. \u001b[0m\n",
              "\u001b[32mFurther investigation about the Brooklyn property was requested.'\u001b[0m\u001b[1;38;2;118;185;0m,\u001b[0m\n",
              "\u001b[1;38;2;118;185;0m        \u001b[0m\u001b[1;33mopen_problems\u001b[0m\u001b[1;38;2;118;185;0m=\u001b[0m\u001b[32m\"User\u001b[0m\u001b[32m's data information requirement about their Brooklyn and Queens properties.\"\u001b[0m\u001b[1;38;2;118;185;0m,\u001b[0m\n",
              "\u001b[1;38;2;118;185;0m        \u001b[0m\u001b[1;33mcurrent_goals\u001b[0m\u001b[1;38;2;118;185;0m=\u001b[0m\u001b[32m'Provide user with requested information about their Brooklyn property data.'\u001b[0m\n",
              "\u001b[1;38;2;118;185;0m    \u001b[0m\u001b[1;38;2;118;185;0m)\u001b[0m\u001b[1;38;2;118;185;0m,\u001b[0m\n",
              "\u001b[1;38;2;118;185;0m    \u001b[0m\u001b[32m'input'\u001b[0m\u001b[1;38;2;118;185;0m: \u001b[0m\u001b[32m'yes please'\u001b[0m\u001b[1;38;2;118;185;0m,\u001b[0m\n",
              "\u001b[1;38;2;118;185;0m    \u001b[0m\u001b[32m'output'\u001b[0m\u001b[1;38;2;118;185;0m: \u001b[0m\u001b[32m\"I've re-checked our database. For your Queens property, I found that on July 12th, we recorded 234 \u001b[0m\n",
              "\u001b[32mLb of plastic and 645 Lb of metal collected at the building located at 34 W, Lexington Ave. Would you like me to \u001b[0m\n",
              "\u001b[32minvestigate further about your Brooklyn property?\"\u001b[0m\u001b[1;38;2;118;185;0m,\u001b[0m\n",
              "\u001b[1;38;2;118;185;0m    \u001b[0m\u001b[32m'context'\u001b[0m\u001b[1;38;2;118;185;0m: \u001b[0m\u001b[32m'For the client named Jane Doe the garbage collected on July 12th is 234 Lb plastic and 645 Lb metal\u001b[0m\n",
              "\u001b[32mat the building 34 W, Lexington Ave, which is located in Queens.'\u001b[0m\n",
              "\u001b[1;38;2;118;185;0m}\u001b[0m\n"
            ],
            "text/html": [
              "<pre style=\"white-space:pre;overflow-x:auto;line-height:normal;font-family:Menlo,'DejaVu Sans Mono',consolas,'Courier New',monospace\"><span style=\"color: #76b900; text-decoration-color: #76b900; font-weight: bold\">{</span>\n",
              "<span style=\"color: #76b900; text-decoration-color: #76b900; font-weight: bold\">    </span><span style=\"color: #008000; text-decoration-color: #008000\">'know_base'</span><span style=\"color: #76b900; text-decoration-color: #76b900; font-weight: bold\">: </span><span style=\"color: #800080; text-decoration-color: #800080; font-weight: bold\">KnowledgeBase</span><span style=\"color: #76b900; text-decoration-color: #76b900; font-weight: bold\">(</span>\n",
              "<span style=\"color: #76b900; text-decoration-color: #76b900; font-weight: bold\">        </span><span style=\"color: #808000; text-decoration-color: #808000; font-weight: bold\">first_name</span><span style=\"color: #76b900; text-decoration-color: #76b900; font-weight: bold\">=</span><span style=\"color: #008000; text-decoration-color: #008000\">'Jane'</span><span style=\"color: #76b900; text-decoration-color: #76b900; font-weight: bold\">,</span>\n",
              "<span style=\"color: #76b900; text-decoration-color: #76b900; font-weight: bold\">        </span><span style=\"color: #808000; text-decoration-color: #808000; font-weight: bold\">last_name</span><span style=\"color: #76b900; text-decoration-color: #76b900; font-weight: bold\">=</span><span style=\"color: #008000; text-decoration-color: #008000\">'Doe'</span><span style=\"color: #76b900; text-decoration-color: #76b900; font-weight: bold\">,</span>\n",
              "<span style=\"color: #76b900; text-decoration-color: #76b900; font-weight: bold\">        </span><span style=\"color: #808000; text-decoration-color: #808000; font-weight: bold\">user_id</span><span style=\"color: #76b900; text-decoration-color: #76b900; font-weight: bold\">=</span><span style=\"color: #008080; text-decoration-color: #008080; font-weight: bold\">12345</span><span style=\"color: #76b900; text-decoration-color: #76b900; font-weight: bold\">,</span>\n",
              "<span style=\"color: #76b900; text-decoration-color: #76b900; font-weight: bold\">        </span><span style=\"color: #808000; text-decoration-color: #808000; font-weight: bold\">discussion_summary</span><span style=\"color: #76b900; text-decoration-color: #76b900; font-weight: bold\">=</span><span style=\"color: #008000; text-decoration-color: #008000\">'User needs information about their data. User confirmed their first name is Jane, last </span>\n",
              "<span style=\"color: #008000; text-decoration-color: #008000\">name is Doe, and user ID is 12345. User requested information about their garbage collection data at their </span>\n",
              "<span style=\"color: #008000; text-decoration-color: #008000\">properties in Brooklyn and Queens. User confirmed having properties in both locations. For the Queens property, 234</span>\n",
              "<span style=\"color: #008000; text-decoration-color: #008000\">Lb of plastic and 645 Lb of metal were collected on July 12th at the building located at 34 W, Lexington Ave. </span>\n",
              "<span style=\"color: #008000; text-decoration-color: #008000\">Further investigation about the Brooklyn property was requested.'</span><span style=\"color: #76b900; text-decoration-color: #76b900; font-weight: bold\">,</span>\n",
              "<span style=\"color: #76b900; text-decoration-color: #76b900; font-weight: bold\">        </span><span style=\"color: #808000; text-decoration-color: #808000; font-weight: bold\">open_problems</span><span style=\"color: #76b900; text-decoration-color: #76b900; font-weight: bold\">=</span><span style=\"color: #008000; text-decoration-color: #008000\">\"User's data information requirement about their Brooklyn and Queens properties.\"</span><span style=\"color: #76b900; text-decoration-color: #76b900; font-weight: bold\">,</span>\n",
              "<span style=\"color: #76b900; text-decoration-color: #76b900; font-weight: bold\">        </span><span style=\"color: #808000; text-decoration-color: #808000; font-weight: bold\">current_goals</span><span style=\"color: #76b900; text-decoration-color: #76b900; font-weight: bold\">=</span><span style=\"color: #008000; text-decoration-color: #008000\">'Provide user with requested information about their Brooklyn property data.'</span>\n",
              "<span style=\"color: #76b900; text-decoration-color: #76b900; font-weight: bold\">    ),</span>\n",
              "<span style=\"color: #76b900; text-decoration-color: #76b900; font-weight: bold\">    </span><span style=\"color: #008000; text-decoration-color: #008000\">'input'</span><span style=\"color: #76b900; text-decoration-color: #76b900; font-weight: bold\">: </span><span style=\"color: #008000; text-decoration-color: #008000\">'yes please'</span><span style=\"color: #76b900; text-decoration-color: #76b900; font-weight: bold\">,</span>\n",
              "<span style=\"color: #76b900; text-decoration-color: #76b900; font-weight: bold\">    </span><span style=\"color: #008000; text-decoration-color: #008000\">'output'</span><span style=\"color: #76b900; text-decoration-color: #76b900; font-weight: bold\">: </span><span style=\"color: #008000; text-decoration-color: #008000\">\"I've re-checked our database. For your Queens property, I found that on July 12th, we recorded 234 </span>\n",
              "<span style=\"color: #008000; text-decoration-color: #008000\">Lb of plastic and 645 Lb of metal collected at the building located at 34 W, Lexington Ave. Would you like me to </span>\n",
              "<span style=\"color: #008000; text-decoration-color: #008000\">investigate further about your Brooklyn property?\"</span><span style=\"color: #76b900; text-decoration-color: #76b900; font-weight: bold\">,</span>\n",
              "<span style=\"color: #76b900; text-decoration-color: #76b900; font-weight: bold\">    </span><span style=\"color: #008000; text-decoration-color: #008000\">'context'</span><span style=\"color: #76b900; text-decoration-color: #76b900; font-weight: bold\">: </span><span style=\"color: #008000; text-decoration-color: #008000\">'For the client named Jane Doe the garbage collected on July 12th is 234 Lb plastic and 645 Lb metal</span>\n",
              "<span style=\"color: #008000; text-decoration-color: #008000\">at the building 34 W, Lexington Ave, which is located in Queens.'</span>\n",
              "<span style=\"color: #76b900; text-decoration-color: #76b900; font-weight: bold\">}</span>\n",
              "</pre>\n"
            ]
          },
          "metadata": {}
        },
        {
          "output_type": "stream",
          "name": "stdout",
          "text": [
            "Keyboard interruption in main thread... closing server.\n",
            "Killing tunnel 127.0.0.1:7860 <> https://5e5373292c38c70fff.gradio.live\n"
          ]
        }
      ],
      "source": [
        "state = {'know_base' : KnowledgeBase()}\n",
        "\n",
        "chatbot = gr.Chatbot(value=[[None, \"Hello! I'm your Basura agent! How can I help you?\"]])\n",
        "demo = gr.ChatInterface(chat_gen, chatbot=chatbot).queue().launch(debug=True, share=True)"
      ]
    }
  ],
  "metadata": {
    "colab": {
      "provenance": []
    },
    "kernelspec": {
      "display_name": "Python 3 (ipykernel)",
      "language": "python",
      "name": "python3"
    },
    "language_info": {
      "codemirror_mode": {
        "name": "ipython",
        "version": 3
      },
      "file_extension": ".py",
      "mimetype": "text/x-python",
      "name": "python",
      "nbconvert_exporter": "python",
      "pygments_lexer": "ipython3",
      "version": "3.11.8"
    }
  },
  "nbformat": 4,
  "nbformat_minor": 5
}